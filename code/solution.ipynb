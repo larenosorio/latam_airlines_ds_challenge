{
  "nbformat": 4,
  "nbformat_minor": 0,
  "metadata": {
    "colab": {
      "name": "solution.ipynb",
      "provenance": [],
      "collapsed_sections": [
        "hYApawMUimxj"
      ],
      "toc_visible": true
    },
    "kernelspec": {
      "name": "python3",
      "display_name": "Python 3"
    },
    "language_info": {
      "name": "python"
    }
  },
  "cells": [
    {
      "cell_type": "markdown",
      "source": [
        "# LATAM Airlines\n",
        "\n",
        "**\"Probabilidad de atraso de los vuelos que aterriza o despegan\"**\n",
        "\n",
        "El problema consiste en predecir la probabilidad de atraso de los vuelos que aterrizan o despegan del aeropuerto de Santiago de Chile (SCL).\n",
        "\n",
        "Para eso les entregamos un dataset usando datos públicos y reales donde cada fila corresponde a un vuelo que aterrizó o despegó de SCL."
      ],
      "metadata": {
        "id": "hYApawMUimxj"
      }
    },
    {
      "cell_type": "markdown",
      "source": [
        "# Entendimiento inicial de los datos"
      ],
      "metadata": {
        "id": "Own9-A_zjQCv"
      }
    },
    {
      "cell_type": "markdown",
      "source": [
        "## Cargar Librerias"
      ],
      "metadata": {
        "id": "2ZmX99_IjS-G"
      }
    },
    {
      "cell_type": "code",
      "source": [
        "%matplotlib inline\n",
        "\n",
        "import re\n",
        "import random\n",
        "from collections import Counter\n",
        "\n",
        "import numpy as np\n",
        "import pandas as pd\n",
        "pd.set_option('max_columns', 100)\n",
        "pd.set_option('max_rows', 1000)\n",
        "\n",
        "from scipy.stats import kstest\n",
        "\n",
        "import matplotlib.pyplot as plt\n",
        "import seaborn as sns\n",
        "sns.set(color_codes=True)\n",
        "\n",
        "from graphviz import Source\n",
        "from sklearn.tree import export_graphviz\n",
        "from IPython.display import SVG\n",
        "\n",
        "from sklearn.preprocessing import StandardScaler, MinMaxScaler,OrdinalEncoder\n",
        "\n",
        "from sklearn.model_selection import train_test_split,cross_val_score,StratifiedKFold,GridSearchCV,ParameterGrid\n",
        "\n",
        "from sklearn.neighbors import KNeighborsClassifier\n",
        "from sklearn.tree import DecisionTreeClassifier\n",
        "from sklearn.linear_model import LogisticRegression\n",
        "from sklearn.ensemble import RandomForestClassifier\n",
        "import xgboost as xgb\n",
        "\n",
        "from sklearn import metrics as mt\n",
        "from sklearn.metrics import  roc_curve, auc, silhouette_score, recall_score, precision_score, confusion_matrix, accuracy_score\n",
        "\n"
      ],
      "metadata": {
        "id": "LVA-jyO1jHDH"
      },
      "execution_count": 1,
      "outputs": []
    },
    {
      "cell_type": "markdown",
      "source": [
        "## Definición de funciones"
      ],
      "metadata": {
        "id": "xNjjVbzFkppg"
      }
    },
    {
      "cell_type": "code",
      "source": [
        "def cross_target(data,var,target):\n",
        "    \"\"\"Calcula los porcentajes de conversión del target por cada categoria de la variable\"\"\"\n",
        "    \n",
        "    base = data[[var,target]].fillna(\"NULOS\")\n",
        "    print(\"----------------------------------------------------------------\")\n",
        "    print(\"---- Var: \",var)\n",
        "    print(pd.concat([pd.DataFrame(base[:][var].value_counts(dropna=False).index, columns = ['Atributo']),\n",
        "           pd.DataFrame(base[:][var].value_counts(dropna=False).values, columns = ['Cantidad']),\n",
        "           pd.DataFrame(100*base[:][var].value_counts(dropna=False).values/len(base), columns = ['%Total'])], axis = 1))\n",
        "    \n",
        "    temp = pd.DataFrame(np.array(base.groupby(var, as_index = False, axis = 0)[target].mean()), \n",
        "                         columns = [var,\"% ratio_conv\"])\n",
        "    temp[\"% ratio_conv\"] = temp[\"% ratio_conv\"]*100\n",
        "    temp = temp.sort_values(by = ['% ratio_conv'], ascending = [False])\n",
        "    print(\"\")\n",
        "    print(temp)\n",
        "\n",
        "\n",
        "def plot_graph_initial(df, meta):\n",
        "  \"\"\"Graficos para el analisis univariado\"\"\"\n",
        "  \n",
        "  import matplotlib\n",
        "  matplotlib.rcParams.update({'font.size': 16})\n",
        "  for i in range(len(meta)) :\n",
        "      plt.figure(figsize=(20,5))\n",
        "      v=meta.iloc[i].variable #print(meta.iloc[i].variable)\n",
        "      t=meta.iloc[i].tipo\n",
        "      if (t.__class__.__name__==\"CategoricalDtype\"):\n",
        "          fa=df[v].value_counts() \n",
        "          fr=fa/len(df[v]) \n",
        "          #Barras\n",
        "          plt.subplot(1,2,1)\n",
        "          plt.bar(fa.index,fa)\n",
        "          plt.xticks(fa.index)\n",
        "          plt.title(v)\n",
        "          #Pie\n",
        "          plt.subplot(1,2,2)\n",
        "          plt.pie(fr,autopct='%1.1f%%', shadow=True, startangle=90)\n",
        "          plt.legend(fr.index,loc=\"center left\",bbox_to_anchor=(1, 0, 0.5, 1))\n",
        "          plt.title(v)\n",
        "          #Guardar\n",
        "          #plt.savefig(v+\".jpg\")\n",
        "\n",
        "      else:\n",
        "          #Histograma\n",
        "          plt.subplot(1,2,1)\n",
        "          plt.hist(df[v].dropna())\n",
        "          plt.title(v)\n",
        "          #Boxplot\n",
        "          plt.subplot(1,2,2)\n",
        "          plt.boxplot(df[v])\n",
        "          plt.title(v)\n",
        "          #Guardar\n",
        "          #plt.savefig(v+\".jpg\")\n",
        "      plt.show()\n",
        "\n",
        "\n",
        "\n",
        "def plot_graph_bivariable(df2, meta, y):\n",
        "  \"\"\"Graficos para el analisis bivariado\"\"\"\n",
        "  \n",
        "  import matplotlib\n",
        "  matplotlib.rcParams.update({'font.size': 16})\n",
        "  for i in range(len(meta)) :\n",
        "      plt.figure(figsize=(10,5))\n",
        "      v=meta.iloc[i].variable #print(meta.iloc[i].variable)\n",
        "      t=meta.iloc[i].tipo\n",
        "      if v==y: break\n",
        "      print(v)\n",
        "      if (t.__class__.__name__==\"CategoricalDtype\"):        \n",
        "          g=df2.groupby([df2[y],v]).size().unstack(0)\n",
        "          tf= g[1]/(g[0]+g[1])\n",
        "          c1 = g[0]\n",
        "          c2 = g[1]\n",
        "          width = 0.9   # the width of the bars: can also be len(x) sequence\n",
        "\n",
        "          p1 = plt.bar(g.index, c1, width)\n",
        "          p2 = plt.bar(g.index, c2, width,\n",
        "                       bottom=c1)\n",
        "\n",
        "          plt.ylabel('Freq')\n",
        "          plt.title('Bivariado')\n",
        "          plt.xticks(g.index)\n",
        "          plt.legend((p1[0], p2[0]), ('0', '1'),loc='lower left',bbox_to_anchor=(1, 1))\n",
        "\n",
        "          plt.twinx().plot(tf.values,linestyle='-', linewidth=2.0,color='red')\n",
        "          plt.ylabel(y)\n",
        "          #Guardar\n",
        "          #plt.savefig(\"Bivariado_\"+ v + \".jpg\")\n",
        "      else:\n",
        "          d=pd.qcut(df2[v], 10, duplicates='drop',labels=False)     \n",
        "          g=df2.groupby([y, d]).size().unstack(0)   \n",
        "          N = len(g)\n",
        "          menMeans = g[0]\n",
        "          womenMeans = g[1]\n",
        "          tf= g[1]/(g[0]+g[1])\n",
        "          ind = np.arange(N)    # the x locations for the groups\n",
        "\n",
        "          width = 0.9       # the width of the bars: can also be len(x) sequence        \n",
        "          p1 = plt.bar(ind, menMeans, width)\n",
        "          p2 = plt.bar(ind, womenMeans, width,\n",
        "                       bottom=menMeans)\n",
        "\n",
        "          plt.ylabel('Freq')\n",
        "          plt.xlabel(\"Deciles \" + v)\n",
        "          plt.title('Bivariado: ' + v + \" vs \" + y)\n",
        "          plt.xticks(ind, np.arange(1,10,1))\n",
        "          plt.legend((p1[0], p2[0]), ('0', '1'),loc='lower left',bbox_to_anchor=(1, 1))\n",
        "\n",
        "          plt.twinx().plot(tf.values,linestyle='-', linewidth=2.0,color='red')\n",
        "          plt.ylabel(y)\n",
        "          #Guardar\n",
        "          #plt.savefig(\"Bivariado_\"+ v + \".jpg\")\n",
        "      plt.show()\n",
        "\n",
        "\n",
        "\n",
        "def fx_porc_missings(data, only_missings = False):\n",
        "    \"\"\"Calcula los porcentajes de valores vacios en cada variable\"\"\"\n",
        "    \n",
        "    df_vars_missings = pd.concat([pd.DataFrame(data.isnull().sum(), columns = ['n_nulos']),\n",
        "           pd.DataFrame(100*data.isnull().sum()/len(data), columns = ['%Total'])], axis = 1)\n",
        "    if only_missings:\n",
        "        return(df_vars_missings[df_vars_missings[\"n_nulos\"]!=0])\n",
        "    else:\n",
        "        return(df_vars_missings)\n",
        "\n",
        "\n",
        "\n",
        "def fx_percentiles_en_lista(lista):\n",
        "    \"\"\"Calcula los percentiles y lo muestra en un dataframe\"\"\"\n",
        "    \n",
        "    vector_percentiles = [0,0.5,1,2.5,5,10,25,50,75,90,92.5,95,97.5,99,99.5,100]\n",
        "    display(pd.concat([pd.DataFrame(vector_percentiles, columns = ['Percentile']),\n",
        "                     pd.DataFrame(np.nanpercentile(lista, vector_percentiles), \n",
        "                                  columns = ['Valor'])], axis = 1))\n",
        "\n",
        "\n",
        "\n",
        "def clean_outlier_perc(df, column, value_perc):\n",
        "  \"\"\"Genera el reemplazo de valores outliers superiores por un percentile personalizado\"\"\"\n",
        "  \n",
        "  top_value = df[column].quantile(value_perc) \n",
        "  df.loc[df[column] >= top_value, column] = top_value\n",
        "\n",
        "\n",
        "\n",
        "def correlation_heatmap(df):\n",
        "    \"\"\"Función para plotear las correlaciones de las variables de un dataset\"\"\"\n",
        "    \n",
        "    _ , ax = plt.subplots(figsize =(14, 12))\n",
        "    colormap = sns.diverging_palette(220, 10, as_cmap = True)\n",
        "    \n",
        "    _ = sns.heatmap(\n",
        "        df.corr(), \n",
        "        cmap = colormap,\n",
        "        square=True, \n",
        "        cbar_kws={'shrink':.9 }, \n",
        "        ax=ax,\n",
        "        annot=True, \n",
        "        linewidths=0.1,vmax=1.0, linecolor='white',\n",
        "        annot_kws={'fontsize':12 }\n",
        "    )\n",
        "    \n",
        "    plt.title('Pearson Correlation of Features', y=1.05, size=15)\n",
        "\n",
        "\n",
        "def print_mc(matriz_conf):\n",
        "    \"\"\"Función para plotear la matriz de confusion\"\"\"\n",
        "\n",
        "    matriz_conf = pd.DataFrame(matriz_conf)\n",
        "    matriz_conf.index = [\"Real_0\",\"Real_1\"]\n",
        "    matriz_conf.columns = [\"Pred_0\",\"Pred_1\"]\n",
        "    print(matriz_conf) \n",
        "    \n",
        "\n",
        "def fx_evaluate_classif(y_real, pred, pred_proba):\n",
        "    \"\"\"Función para las metricas de evaluación de un modelo de clasificacion\"\"\"\n",
        "\n",
        "    from sklearn import metrics as mt\n",
        "    matriz_conf = mt.confusion_matrix(y_real,pred)\n",
        "    print_mc(matriz_conf)\n",
        "    roc = mt.roc_auc_score(y_real,pred_proba)\n",
        "    accuracy_real = mt.accuracy_score(y_real,pred)\n",
        "    print(\"\\nROC-AUC: \", roc) \n",
        "    print(\"Accu:\", accuracy_real,'\\n')\n",
        "    print(mt.classification_report(y_real, pred)[0:163])"
      ],
      "metadata": {
        "id": "WO4AfyQNjdWm"
      },
      "execution_count": 2,
      "outputs": []
    },
    {
      "cell_type": "markdown",
      "source": [
        "## Lectura y validación de datos"
      ],
      "metadata": {
        "id": "GVIOveuplzxB"
      }
    },
    {
      "cell_type": "markdown",
      "source": [
        "Cada fila corresponde a un vuelo que aterrizó o despegó de SCL"
      ],
      "metadata": {
        "id": "cS6Q_kX8l7XS"
      }
    },
    {
      "cell_type": "code",
      "source": [
        "from google.colab import drive\n",
        "drive.mount('/content/drive')"
      ],
      "metadata": {
        "colab": {
          "base_uri": "https://localhost:8080/"
        },
        "id": "Xsx10qCWlJJ1",
        "outputId": "7dd8c0f4-91a8-420a-9bfd-9ae7411e6d39"
      },
      "execution_count": 3,
      "outputs": [
        {
          "output_type": "stream",
          "name": "stdout",
          "text": [
            "Drive already mounted at /content/drive; to attempt to forcibly remount, call drive.mount(\"/content/drive\", force_remount=True).\n"
          ]
        }
      ]
    },
    {
      "cell_type": "code",
      "source": [
        "# Ruta donde se encuentra alojado el dataset del caso\n",
        "#url_drive = '/content/drive/MyDrive/Colab Notebooks/case_ds_latam_challenges/data/'\n",
        "url_='/content/sample_data/'"
      ],
      "metadata": {
        "id": "Hj2GA-m-mHef"
      },
      "execution_count": 4,
      "outputs": []
    },
    {
      "cell_type": "code",
      "source": [
        "# Carga del dataset **diabetic_data**\n",
        "dfVuelos=pd.read_csv(url_+'dataset_SCL.csv', na_values='?', low_memory=False)"
      ],
      "metadata": {
        "id": "yQifFTbrmUrN"
      },
      "execution_count": 5,
      "outputs": []
    },
    {
      "cell_type": "markdown",
      "source": [
        "**Comprobar correcta lectura de los datos**"
      ],
      "metadata": {
        "id": "1GRuCnRhmrKX"
      }
    },
    {
      "cell_type": "markdown",
      "source": [
        "Se oserva que **Fecha-I** y **Fecha-O** son del tipo string, se necesita convertir para realizar operaciones entre ellas. Así mismo **DIA**, **MES** Y **AÑO** son del tipo entero, cuando deben de ser categoricas."
      ],
      "metadata": {
        "id": "nDBoR9u_AGj_"
      }
    },
    {
      "cell_type": "code",
      "source": [
        "dfVuelos.dtypes"
      ],
      "metadata": {
        "colab": {
          "base_uri": "https://localhost:8080/"
        },
        "id": "-AfGXFoe_1PU",
        "outputId": "4aa92f26-3c03-4e88-9905-f3132ff47d3f"
      },
      "execution_count": 6,
      "outputs": [
        {
          "output_type": "execute_result",
          "data": {
            "text/plain": [
              "Fecha-I      object\n",
              "Vlo-I        object\n",
              "Ori-I        object\n",
              "Des-I        object\n",
              "Emp-I        object\n",
              "Fecha-O      object\n",
              "Vlo-O        object\n",
              "Ori-O        object\n",
              "Des-O        object\n",
              "Emp-O        object\n",
              "DIA           int64\n",
              "MES           int64\n",
              "AÑO           int64\n",
              "DIANOM       object\n",
              "TIPOVUELO    object\n",
              "OPERA        object\n",
              "SIGLAORI     object\n",
              "SIGLADES     object\n",
              "dtype: object"
            ]
          },
          "metadata": {},
          "execution_count": 6
        }
      ]
    },
    {
      "cell_type": "markdown",
      "source": [
        "**Descriptivo del Dataset Vuelos**\n",
        "\n"
      ],
      "metadata": {
        "id": "beXOZGgI4OMk"
      }
    },
    {
      "cell_type": "markdown",
      "source": [
        "Se observa que la variable **Vlo-O** tiene un valor nulo, el resto de variables tiene todos su valores completos. Por otro lado se observa que todas las variables son del tipo cualitativas"
      ],
      "metadata": {
        "id": "autph7cV4WPS"
      }
    },
    {
      "cell_type": "code",
      "source": [
        "dfVuelos.describe(include='all')"
      ],
      "metadata": {
        "colab": {
          "base_uri": "https://localhost:8080/",
          "height": 395
        },
        "id": "Xn1qDeEemmYP",
        "outputId": "4b48d7fd-6453-4820-c668-10662810d6cf"
      },
      "execution_count": 7,
      "outputs": [
        {
          "output_type": "execute_result",
          "data": {
            "text/plain": [
              "                    Fecha-I  Vlo-I  Ori-I  Des-I  Emp-I              Fecha-O  \\\n",
              "count                 68206  68206  68206  68206  68206                68206   \n",
              "unique                53252    584      1     64     30                62774   \n",
              "top     2017-07-28 13:30:00    174   SCEL   SCFA    LAN  2017-11-05 14:51:00   \n",
              "freq                      6    686  68206   5787  37611                    5   \n",
              "mean                    NaN    NaN    NaN    NaN    NaN                  NaN   \n",
              "std                     NaN    NaN    NaN    NaN    NaN                  NaN   \n",
              "min                     NaN    NaN    NaN    NaN    NaN                  NaN   \n",
              "25%                     NaN    NaN    NaN    NaN    NaN                  NaN   \n",
              "50%                     NaN    NaN    NaN    NaN    NaN                  NaN   \n",
              "75%                     NaN    NaN    NaN    NaN    NaN                  NaN   \n",
              "max                     NaN    NaN    NaN    NaN    NaN                  NaN   \n",
              "\n",
              "        Vlo-O  Ori-O  Des-O  Emp-O           DIA           MES           AÑO  \\\n",
              "count   68205  68206  68206  68206  68206.000000  68206.000000  68206.000000   \n",
              "unique    861      1     63     32           NaN           NaN           NaN   \n",
              "top       174   SCEL   SCFA    LAN           NaN           NaN           NaN   \n",
              "freq      649  68206   5786  20988           NaN           NaN           NaN   \n",
              "mean      NaN    NaN    NaN    NaN     15.714790      6.622585   2017.000029   \n",
              "std       NaN    NaN    NaN    NaN      8.782886      3.523321      0.005415   \n",
              "min       NaN    NaN    NaN    NaN      1.000000      1.000000   2017.000000   \n",
              "25%       NaN    NaN    NaN    NaN      8.000000      3.000000   2017.000000   \n",
              "50%       NaN    NaN    NaN    NaN     16.000000      7.000000   2017.000000   \n",
              "75%       NaN    NaN    NaN    NaN     23.000000     10.000000   2017.000000   \n",
              "max       NaN    NaN    NaN    NaN     31.000000     12.000000   2018.000000   \n",
              "\n",
              "         DIANOM TIPOVUELO        OPERA  SIGLAORI      SIGLADES  \n",
              "count     68206     68206        68206     68206         68206  \n",
              "unique        7         2           23         1            62  \n",
              "top     Viernes         N  Grupo LATAM  Santiago  Buenos Aires  \n",
              "freq      10292     36966        40892     68206          6335  \n",
              "mean        NaN       NaN          NaN       NaN           NaN  \n",
              "std         NaN       NaN          NaN       NaN           NaN  \n",
              "min         NaN       NaN          NaN       NaN           NaN  \n",
              "25%         NaN       NaN          NaN       NaN           NaN  \n",
              "50%         NaN       NaN          NaN       NaN           NaN  \n",
              "75%         NaN       NaN          NaN       NaN           NaN  \n",
              "max         NaN       NaN          NaN       NaN           NaN  "
            ],
            "text/html": [
              "\n",
              "  <div id=\"df-af559ec1-4e6b-404a-8b60-b495e050619c\">\n",
              "    <div class=\"colab-df-container\">\n",
              "      <div>\n",
              "<style scoped>\n",
              "    .dataframe tbody tr th:only-of-type {\n",
              "        vertical-align: middle;\n",
              "    }\n",
              "\n",
              "    .dataframe tbody tr th {\n",
              "        vertical-align: top;\n",
              "    }\n",
              "\n",
              "    .dataframe thead th {\n",
              "        text-align: right;\n",
              "    }\n",
              "</style>\n",
              "<table border=\"1\" class=\"dataframe\">\n",
              "  <thead>\n",
              "    <tr style=\"text-align: right;\">\n",
              "      <th></th>\n",
              "      <th>Fecha-I</th>\n",
              "      <th>Vlo-I</th>\n",
              "      <th>Ori-I</th>\n",
              "      <th>Des-I</th>\n",
              "      <th>Emp-I</th>\n",
              "      <th>Fecha-O</th>\n",
              "      <th>Vlo-O</th>\n",
              "      <th>Ori-O</th>\n",
              "      <th>Des-O</th>\n",
              "      <th>Emp-O</th>\n",
              "      <th>DIA</th>\n",
              "      <th>MES</th>\n",
              "      <th>AÑO</th>\n",
              "      <th>DIANOM</th>\n",
              "      <th>TIPOVUELO</th>\n",
              "      <th>OPERA</th>\n",
              "      <th>SIGLAORI</th>\n",
              "      <th>SIGLADES</th>\n",
              "    </tr>\n",
              "  </thead>\n",
              "  <tbody>\n",
              "    <tr>\n",
              "      <th>count</th>\n",
              "      <td>68206</td>\n",
              "      <td>68206</td>\n",
              "      <td>68206</td>\n",
              "      <td>68206</td>\n",
              "      <td>68206</td>\n",
              "      <td>68206</td>\n",
              "      <td>68205</td>\n",
              "      <td>68206</td>\n",
              "      <td>68206</td>\n",
              "      <td>68206</td>\n",
              "      <td>68206.000000</td>\n",
              "      <td>68206.000000</td>\n",
              "      <td>68206.000000</td>\n",
              "      <td>68206</td>\n",
              "      <td>68206</td>\n",
              "      <td>68206</td>\n",
              "      <td>68206</td>\n",
              "      <td>68206</td>\n",
              "    </tr>\n",
              "    <tr>\n",
              "      <th>unique</th>\n",
              "      <td>53252</td>\n",
              "      <td>584</td>\n",
              "      <td>1</td>\n",
              "      <td>64</td>\n",
              "      <td>30</td>\n",
              "      <td>62774</td>\n",
              "      <td>861</td>\n",
              "      <td>1</td>\n",
              "      <td>63</td>\n",
              "      <td>32</td>\n",
              "      <td>NaN</td>\n",
              "      <td>NaN</td>\n",
              "      <td>NaN</td>\n",
              "      <td>7</td>\n",
              "      <td>2</td>\n",
              "      <td>23</td>\n",
              "      <td>1</td>\n",
              "      <td>62</td>\n",
              "    </tr>\n",
              "    <tr>\n",
              "      <th>top</th>\n",
              "      <td>2017-07-28 13:30:00</td>\n",
              "      <td>174</td>\n",
              "      <td>SCEL</td>\n",
              "      <td>SCFA</td>\n",
              "      <td>LAN</td>\n",
              "      <td>2017-11-05 14:51:00</td>\n",
              "      <td>174</td>\n",
              "      <td>SCEL</td>\n",
              "      <td>SCFA</td>\n",
              "      <td>LAN</td>\n",
              "      <td>NaN</td>\n",
              "      <td>NaN</td>\n",
              "      <td>NaN</td>\n",
              "      <td>Viernes</td>\n",
              "      <td>N</td>\n",
              "      <td>Grupo LATAM</td>\n",
              "      <td>Santiago</td>\n",
              "      <td>Buenos Aires</td>\n",
              "    </tr>\n",
              "    <tr>\n",
              "      <th>freq</th>\n",
              "      <td>6</td>\n",
              "      <td>686</td>\n",
              "      <td>68206</td>\n",
              "      <td>5787</td>\n",
              "      <td>37611</td>\n",
              "      <td>5</td>\n",
              "      <td>649</td>\n",
              "      <td>68206</td>\n",
              "      <td>5786</td>\n",
              "      <td>20988</td>\n",
              "      <td>NaN</td>\n",
              "      <td>NaN</td>\n",
              "      <td>NaN</td>\n",
              "      <td>10292</td>\n",
              "      <td>36966</td>\n",
              "      <td>40892</td>\n",
              "      <td>68206</td>\n",
              "      <td>6335</td>\n",
              "    </tr>\n",
              "    <tr>\n",
              "      <th>mean</th>\n",
              "      <td>NaN</td>\n",
              "      <td>NaN</td>\n",
              "      <td>NaN</td>\n",
              "      <td>NaN</td>\n",
              "      <td>NaN</td>\n",
              "      <td>NaN</td>\n",
              "      <td>NaN</td>\n",
              "      <td>NaN</td>\n",
              "      <td>NaN</td>\n",
              "      <td>NaN</td>\n",
              "      <td>15.714790</td>\n",
              "      <td>6.622585</td>\n",
              "      <td>2017.000029</td>\n",
              "      <td>NaN</td>\n",
              "      <td>NaN</td>\n",
              "      <td>NaN</td>\n",
              "      <td>NaN</td>\n",
              "      <td>NaN</td>\n",
              "    </tr>\n",
              "    <tr>\n",
              "      <th>std</th>\n",
              "      <td>NaN</td>\n",
              "      <td>NaN</td>\n",
              "      <td>NaN</td>\n",
              "      <td>NaN</td>\n",
              "      <td>NaN</td>\n",
              "      <td>NaN</td>\n",
              "      <td>NaN</td>\n",
              "      <td>NaN</td>\n",
              "      <td>NaN</td>\n",
              "      <td>NaN</td>\n",
              "      <td>8.782886</td>\n",
              "      <td>3.523321</td>\n",
              "      <td>0.005415</td>\n",
              "      <td>NaN</td>\n",
              "      <td>NaN</td>\n",
              "      <td>NaN</td>\n",
              "      <td>NaN</td>\n",
              "      <td>NaN</td>\n",
              "    </tr>\n",
              "    <tr>\n",
              "      <th>min</th>\n",
              "      <td>NaN</td>\n",
              "      <td>NaN</td>\n",
              "      <td>NaN</td>\n",
              "      <td>NaN</td>\n",
              "      <td>NaN</td>\n",
              "      <td>NaN</td>\n",
              "      <td>NaN</td>\n",
              "      <td>NaN</td>\n",
              "      <td>NaN</td>\n",
              "      <td>NaN</td>\n",
              "      <td>1.000000</td>\n",
              "      <td>1.000000</td>\n",
              "      <td>2017.000000</td>\n",
              "      <td>NaN</td>\n",
              "      <td>NaN</td>\n",
              "      <td>NaN</td>\n",
              "      <td>NaN</td>\n",
              "      <td>NaN</td>\n",
              "    </tr>\n",
              "    <tr>\n",
              "      <th>25%</th>\n",
              "      <td>NaN</td>\n",
              "      <td>NaN</td>\n",
              "      <td>NaN</td>\n",
              "      <td>NaN</td>\n",
              "      <td>NaN</td>\n",
              "      <td>NaN</td>\n",
              "      <td>NaN</td>\n",
              "      <td>NaN</td>\n",
              "      <td>NaN</td>\n",
              "      <td>NaN</td>\n",
              "      <td>8.000000</td>\n",
              "      <td>3.000000</td>\n",
              "      <td>2017.000000</td>\n",
              "      <td>NaN</td>\n",
              "      <td>NaN</td>\n",
              "      <td>NaN</td>\n",
              "      <td>NaN</td>\n",
              "      <td>NaN</td>\n",
              "    </tr>\n",
              "    <tr>\n",
              "      <th>50%</th>\n",
              "      <td>NaN</td>\n",
              "      <td>NaN</td>\n",
              "      <td>NaN</td>\n",
              "      <td>NaN</td>\n",
              "      <td>NaN</td>\n",
              "      <td>NaN</td>\n",
              "      <td>NaN</td>\n",
              "      <td>NaN</td>\n",
              "      <td>NaN</td>\n",
              "      <td>NaN</td>\n",
              "      <td>16.000000</td>\n",
              "      <td>7.000000</td>\n",
              "      <td>2017.000000</td>\n",
              "      <td>NaN</td>\n",
              "      <td>NaN</td>\n",
              "      <td>NaN</td>\n",
              "      <td>NaN</td>\n",
              "      <td>NaN</td>\n",
              "    </tr>\n",
              "    <tr>\n",
              "      <th>75%</th>\n",
              "      <td>NaN</td>\n",
              "      <td>NaN</td>\n",
              "      <td>NaN</td>\n",
              "      <td>NaN</td>\n",
              "      <td>NaN</td>\n",
              "      <td>NaN</td>\n",
              "      <td>NaN</td>\n",
              "      <td>NaN</td>\n",
              "      <td>NaN</td>\n",
              "      <td>NaN</td>\n",
              "      <td>23.000000</td>\n",
              "      <td>10.000000</td>\n",
              "      <td>2017.000000</td>\n",
              "      <td>NaN</td>\n",
              "      <td>NaN</td>\n",
              "      <td>NaN</td>\n",
              "      <td>NaN</td>\n",
              "      <td>NaN</td>\n",
              "    </tr>\n",
              "    <tr>\n",
              "      <th>max</th>\n",
              "      <td>NaN</td>\n",
              "      <td>NaN</td>\n",
              "      <td>NaN</td>\n",
              "      <td>NaN</td>\n",
              "      <td>NaN</td>\n",
              "      <td>NaN</td>\n",
              "      <td>NaN</td>\n",
              "      <td>NaN</td>\n",
              "      <td>NaN</td>\n",
              "      <td>NaN</td>\n",
              "      <td>31.000000</td>\n",
              "      <td>12.000000</td>\n",
              "      <td>2018.000000</td>\n",
              "      <td>NaN</td>\n",
              "      <td>NaN</td>\n",
              "      <td>NaN</td>\n",
              "      <td>NaN</td>\n",
              "      <td>NaN</td>\n",
              "    </tr>\n",
              "  </tbody>\n",
              "</table>\n",
              "</div>\n",
              "      <button class=\"colab-df-convert\" onclick=\"convertToInteractive('df-af559ec1-4e6b-404a-8b60-b495e050619c')\"\n",
              "              title=\"Convert this dataframe to an interactive table.\"\n",
              "              style=\"display:none;\">\n",
              "        \n",
              "  <svg xmlns=\"http://www.w3.org/2000/svg\" height=\"24px\"viewBox=\"0 0 24 24\"\n",
              "       width=\"24px\">\n",
              "    <path d=\"M0 0h24v24H0V0z\" fill=\"none\"/>\n",
              "    <path d=\"M18.56 5.44l.94 2.06.94-2.06 2.06-.94-2.06-.94-.94-2.06-.94 2.06-2.06.94zm-11 1L8.5 8.5l.94-2.06 2.06-.94-2.06-.94L8.5 2.5l-.94 2.06-2.06.94zm10 10l.94 2.06.94-2.06 2.06-.94-2.06-.94-.94-2.06-.94 2.06-2.06.94z\"/><path d=\"M17.41 7.96l-1.37-1.37c-.4-.4-.92-.59-1.43-.59-.52 0-1.04.2-1.43.59L10.3 9.45l-7.72 7.72c-.78.78-.78 2.05 0 2.83L4 21.41c.39.39.9.59 1.41.59.51 0 1.02-.2 1.41-.59l7.78-7.78 2.81-2.81c.8-.78.8-2.07 0-2.86zM5.41 20L4 18.59l7.72-7.72 1.47 1.35L5.41 20z\"/>\n",
              "  </svg>\n",
              "      </button>\n",
              "      \n",
              "  <style>\n",
              "    .colab-df-container {\n",
              "      display:flex;\n",
              "      flex-wrap:wrap;\n",
              "      gap: 12px;\n",
              "    }\n",
              "\n",
              "    .colab-df-convert {\n",
              "      background-color: #E8F0FE;\n",
              "      border: none;\n",
              "      border-radius: 50%;\n",
              "      cursor: pointer;\n",
              "      display: none;\n",
              "      fill: #1967D2;\n",
              "      height: 32px;\n",
              "      padding: 0 0 0 0;\n",
              "      width: 32px;\n",
              "    }\n",
              "\n",
              "    .colab-df-convert:hover {\n",
              "      background-color: #E2EBFA;\n",
              "      box-shadow: 0px 1px 2px rgba(60, 64, 67, 0.3), 0px 1px 3px 1px rgba(60, 64, 67, 0.15);\n",
              "      fill: #174EA6;\n",
              "    }\n",
              "\n",
              "    [theme=dark] .colab-df-convert {\n",
              "      background-color: #3B4455;\n",
              "      fill: #D2E3FC;\n",
              "    }\n",
              "\n",
              "    [theme=dark] .colab-df-convert:hover {\n",
              "      background-color: #434B5C;\n",
              "      box-shadow: 0px 1px 3px 1px rgba(0, 0, 0, 0.15);\n",
              "      filter: drop-shadow(0px 1px 2px rgba(0, 0, 0, 0.3));\n",
              "      fill: #FFFFFF;\n",
              "    }\n",
              "  </style>\n",
              "\n",
              "      <script>\n",
              "        const buttonEl =\n",
              "          document.querySelector('#df-af559ec1-4e6b-404a-8b60-b495e050619c button.colab-df-convert');\n",
              "        buttonEl.style.display =\n",
              "          google.colab.kernel.accessAllowed ? 'block' : 'none';\n",
              "\n",
              "        async function convertToInteractive(key) {\n",
              "          const element = document.querySelector('#df-af559ec1-4e6b-404a-8b60-b495e050619c');\n",
              "          const dataTable =\n",
              "            await google.colab.kernel.invokeFunction('convertToInteractive',\n",
              "                                                     [key], {});\n",
              "          if (!dataTable) return;\n",
              "\n",
              "          const docLinkHtml = 'Like what you see? Visit the ' +\n",
              "            '<a target=\"_blank\" href=https://colab.research.google.com/notebooks/data_table.ipynb>data table notebook</a>'\n",
              "            + ' to learn more about interactive tables.';\n",
              "          element.innerHTML = '';\n",
              "          dataTable['output_type'] = 'display_data';\n",
              "          await google.colab.output.renderOutput(dataTable, element);\n",
              "          const docLink = document.createElement('div');\n",
              "          docLink.innerHTML = docLinkHtml;\n",
              "          element.appendChild(docLink);\n",
              "        }\n",
              "      </script>\n",
              "    </div>\n",
              "  </div>\n",
              "  "
            ]
          },
          "metadata": {},
          "execution_count": 7
        }
      ]
    },
    {
      "cell_type": "markdown",
      "source": [
        "## Estudiar las dimensiones del dataset"
      ],
      "metadata": {
        "id": "rR6cst4N4s0D"
      }
    },
    {
      "cell_type": "code",
      "source": [
        "dfVuelos.shape"
      ],
      "metadata": {
        "colab": {
          "base_uri": "https://localhost:8080/"
        },
        "id": "_3dSw0Cl26mj",
        "outputId": "b117352c-961e-4102-ca7c-2a7a1c8d36f1"
      },
      "execution_count": 8,
      "outputs": [
        {
          "output_type": "execute_result",
          "data": {
            "text/plain": [
              "(68206, 18)"
            ]
          },
          "metadata": {},
          "execution_count": 8
        }
      ]
    },
    {
      "cell_type": "code",
      "source": [
        "dfVuelos.size"
      ],
      "metadata": {
        "colab": {
          "base_uri": "https://localhost:8080/"
        },
        "id": "cftjHqqJ4vMx",
        "outputId": "e20bf0cb-4de2-44f9-b5a3-fb058e5d55c2"
      },
      "execution_count": 9,
      "outputs": [
        {
          "output_type": "execute_result",
          "data": {
            "text/plain": [
              "1227708"
            ]
          },
          "metadata": {},
          "execution_count": 9
        }
      ]
    },
    {
      "cell_type": "markdown",
      "source": [
        "No se tiene un id correspondiente a cada vuelo. Como parte de las indicaciones cada fila corresponde a un vuelo que aterrizó o despegó de SCL, por lo que cada fila será tomado como un único registro"
      ],
      "metadata": {
        "id": "sbehtalH4_DL"
      }
    },
    {
      "cell_type": "markdown",
      "source": [
        "## Evaluar el tipo de Problema"
      ],
      "metadata": {
        "id": "17g2AX7w5deG"
      }
    },
    {
      "cell_type": "markdown",
      "source": [
        "**Vemos que es un caso Supervisado donde se trata de un problema de clasificacion para predecir la probabilidad de atraso de los vuelos que aterrizan o despegan del aeropuerto de Santiago de Chile (SCL)**"
      ],
      "metadata": {
        "id": "oY440VeH6n39"
      }
    },
    {
      "cell_type": "markdown",
      "source": [
        "## Variable Objetivo"
      ],
      "metadata": {
        "id": "vDMCpdrm6213"
      }
    },
    {
      "cell_type": "markdown",
      "source": [
        "**Armado del target**\n",
        "\n",
        "Se debe construir el target **atraso_15** en base a una nueva variable llamada **dif_min**. La definición del target obedece:\n",
        "\n",
        "*dif_min<15    : Diferencia en minutos entre Fecha-O y Fecha-I < de 15 minutos entonces atraso_15=0*\n",
        "\n",
        "*dif_min>15    : Diferencia en minutos entre Fecha-O y Fecha-I > de 15 minutos entonces atraso_15=1*\n",
        "\n",
        "\n",
        "\n",
        "Finalmente tomando en cuenta una diferencia de 15 min se construye el target **atraso_15**. Esta variable **bivariada** será usada para resolver las situaciones en las que el vuelo se retrasa"
      ],
      "metadata": {
        "id": "kt10R-dt7FHu"
      }
    },
    {
      "cell_type": "code",
      "source": [
        "# Conversión de las fechas\n",
        "dfVuelos['Fecha-O']=pd.to_datetime(dfVuelos['Fecha-O'])\n",
        "dfVuelos['Fecha-I']=pd.to_datetime(dfVuelos['Fecha-I'])"
      ],
      "metadata": {
        "id": "p9l796zFABxZ"
      },
      "execution_count": 10,
      "outputs": []
    },
    {
      "cell_type": "code",
      "source": [
        "#Crear la variables dif_min tomando las variables Fecha-O y Fecha-I\n",
        "dfVuelos['dif_min']=dfVuelos['Fecha-O']-dfVuelos['Fecha-I']\n",
        "dfVuelos['dif_min']=dfVuelos['dif_min']/np.timedelta64(1,'m')"
      ],
      "metadata": {
        "id": "tstAK-Fo_f75"
      },
      "execution_count": 11,
      "outputs": []
    },
    {
      "cell_type": "code",
      "source": [
        "# Creacion de la variable atraso_15 en base a la variable dif_min\n",
        "dfVuelos['atraso_15'] = dfVuelos['dif_min'].map(lambda x: '1' if x>15 else '0')\n",
        "\n",
        "# Validación\n",
        "dfVuelos['atraso_15'].value_counts()"
      ],
      "metadata": {
        "id": "644k-FyApvAG",
        "colab": {
          "base_uri": "https://localhost:8080/"
        },
        "outputId": "23476b81-78a7-4e5e-a526-c1b701f75b43"
      },
      "execution_count": 12,
      "outputs": [
        {
          "output_type": "execute_result",
          "data": {
            "text/plain": [
              "0    55592\n",
              "1    12614\n",
              "Name: atraso_15, dtype: int64"
            ]
          },
          "metadata": {},
          "execution_count": 12
        }
      ]
    },
    {
      "cell_type": "markdown",
      "source": [
        "Se observa que 12614 (**~18,4%**) corresponde el target de análisis"
      ],
      "metadata": {
        "id": "3CaJoFSX54YR"
      }
    },
    {
      "cell_type": "markdown",
      "source": [
        "En este paso se aprovecha para crear las dos variables solicitadas en el desafío: **temporada_alta** y **periodo_dia**, con el finde darles posterior tratamiento"
      ],
      "metadata": {
        "id": "OsNnLy_RCH-d"
      }
    },
    {
      "cell_type": "code",
      "source": [
        "# Creacion de la variable temporada_alta\n",
        "dfVuelos[\"temporada_alta\"]='0'\n",
        "\n",
        "cond1 =( (dfVuelos['Fecha-I'] >= dfVuelos['Fecha-I'].dt.year.apply(str) + '-12-15') & \\\n",
        " (dfVuelos['Fecha-I']  <= dfVuelos['Fecha-I'].dt.year.apply(lambda x: x+1).apply(str) + '-03-03') )\n",
        "cond2 = ( (dfVuelos['Fecha-I'] >= dfVuelos['Fecha-I'].dt.year.apply(str) + '-07-15') & \\\n",
        " (dfVuelos['Fecha-I']  <= dfVuelos['Fecha-I'].dt.year.apply(str) + '-07-31') )\n",
        "cond3 = ( (dfVuelos['Fecha-I'] >= dfVuelos['Fecha-I'].dt.year.apply(str) + '-09-11') & \\\n",
        " (dfVuelos['Fecha-I']  <= dfVuelos['Fecha-I'].dt.year.apply(str) + '-09-30') )\n",
        "dfVuelos.loc[(cond1 | cond2 | cond3) , 'temporada_alta'] = '1'\n",
        "\n",
        "# Validación\n",
        "dfVuelos['temporada_alta'].value_counts()"
      ],
      "metadata": {
        "id": "-H5OOaU3qsyD",
        "colab": {
          "base_uri": "https://localhost:8080/"
        },
        "outputId": "ed769b24-0306-4b90-ce2d-4021d15f4bbb"
      },
      "execution_count": 13,
      "outputs": [
        {
          "output_type": "execute_result",
          "data": {
            "text/plain": [
              "0    58051\n",
              "1    10155\n",
              "Name: temporada_alta, dtype: int64"
            ]
          },
          "metadata": {},
          "execution_count": 13
        }
      ]
    },
    {
      "cell_type": "code",
      "source": [
        "# Creacion de la variable periodo_dia\n",
        "dfVuelos['periodo_dia'] = \"\"\n",
        "\n",
        "index = pd.DatetimeIndex(dfVuelos['Fecha-I'])\n",
        "dfVuelos.loc[index.indexer_between_time('5:00','11:59'),\"periodo_dia\"]=\"mañana\"\n",
        "dfVuelos.loc[index.indexer_between_time('12:00','18:59'),\"periodo_dia\"]=\"tarde\"\n",
        "dfVuelos.loc[index.indexer_between_time('19:00','04:59'),\"periodo_dia\"]=\"noche\""
      ],
      "metadata": {
        "id": "6XmMP2bQw2fn"
      },
      "execution_count": 14,
      "outputs": []
    },
    {
      "cell_type": "code",
      "source": [
        "# Validación para ver si las horas corresponden con el campo creado\n",
        "dfVuelos['horaFecI']=dfVuelos['Fecha-I'].dt.hour\n",
        "dfVuelos.groupby(by=['periodo_dia','horaFecI']).size()"
      ],
      "metadata": {
        "colab": {
          "base_uri": "https://localhost:8080/"
        },
        "id": "Nm4_TG3P1nbR",
        "outputId": "4146d94d-358c-4701-eaa5-4ffb19de3f3f"
      },
      "execution_count": 15,
      "outputs": [
        {
          "output_type": "execute_result",
          "data": {
            "text/plain": [
              "periodo_dia  horaFecI\n",
              "mañana       5           2514\n",
              "             6           4199\n",
              "             7           4882\n",
              "             8           4363\n",
              "             9           3264\n",
              "             10          2462\n",
              "             11          3668\n",
              "noche        0           1082\n",
              "             1           1573\n",
              "             2            641\n",
              "             3            505\n",
              "             4           1092\n",
              "             19          3591\n",
              "             20          2935\n",
              "             21          2312\n",
              "             22          2320\n",
              "             23          1297\n",
              "tarde        12          3412\n",
              "             13          3675\n",
              "             14          3836\n",
              "             15          3884\n",
              "             16          3072\n",
              "             17          3465\n",
              "             18          4162\n",
              "dtype: int64"
            ]
          },
          "metadata": {},
          "execution_count": 15
        }
      ]
    },
    {
      "cell_type": "code",
      "source": [
        "# Eliminar la variable horaFecI\n",
        "dfVuelos.drop('horaFecI', axis=1, inplace=True)"
      ],
      "metadata": {
        "id": "J3GQ6i3E1e5u"
      },
      "execution_count": 16,
      "outputs": []
    },
    {
      "cell_type": "code",
      "source": [
        "# Validacion\n",
        "dfVuelos[\"periodo_dia\"].value_counts(normalize = True)*100"
      ],
      "metadata": {
        "colab": {
          "base_uri": "https://localhost:8080/"
        },
        "id": "Zwd8uiDw3oFG",
        "outputId": "f9556ff1-d22a-4bf4-fa72-3b488f00ea5c"
      },
      "execution_count": 17,
      "outputs": [
        {
          "output_type": "execute_result",
          "data": {
            "text/plain": [
              "tarde     37.395537\n",
              "mañana    37.169750\n",
              "noche     25.434712\n",
              "Name: periodo_dia, dtype: float64"
            ]
          },
          "metadata": {},
          "execution_count": 17
        }
      ]
    },
    {
      "cell_type": "markdown",
      "source": [
        "Se observa que se tiene un porcentaje menor (**~25%**) de personas que vuelan durante la noche."
      ],
      "metadata": {
        "id": "bJdsqWngus3n"
      }
    },
    {
      "cell_type": "markdown",
      "source": [
        "Se guarda y se exporta los variables creadas en el archivo **synthetic_features.csv**. Se mantiene el index para posteriores cruces"
      ],
      "metadata": {
        "id": "iWEzt6aiCZoe"
      }
    },
    {
      "cell_type": "code",
      "source": [
        "dfVuelos[['temporada_alta','dif_min','atraso_15','periodo_dia']].to_csv(url_+'synthetic_features.csv',sep=',')"
      ],
      "metadata": {
        "id": "-FNSxmzDCOib"
      },
      "execution_count": 18,
      "outputs": []
    },
    {
      "cell_type": "markdown",
      "source": [
        "## Describe Dataset"
      ],
      "metadata": {
        "id": "coXb565mF5l1"
      }
    },
    {
      "cell_type": "code",
      "source": [
        "dfVuelos.describe(include ='all')"
      ],
      "metadata": {
        "colab": {
          "base_uri": "https://localhost:8080/",
          "height": 625
        },
        "id": "kVHM2BoYD1p_",
        "outputId": "0d09a73a-f31e-4708-e365-48a634101d41"
      },
      "execution_count": 19,
      "outputs": [
        {
          "output_type": "stream",
          "name": "stderr",
          "text": [
            "/usr/local/lib/python3.7/dist-packages/ipykernel_launcher.py:1: FutureWarning: Treating datetime data as categorical rather than numeric in `.describe` is deprecated and will be removed in a future version of pandas. Specify `datetime_is_numeric=True` to silence this warning and adopt the future behavior now.\n",
            "  \"\"\"Entry point for launching an IPython kernel.\n"
          ]
        },
        {
          "output_type": "execute_result",
          "data": {
            "text/plain": [
              "                    Fecha-I  Vlo-I  Ori-I  Des-I  Emp-I              Fecha-O  \\\n",
              "count                 68206  68206  68206  68206  68206                68206   \n",
              "unique                53252    584      1     64     30                62774   \n",
              "top     2017-07-28 13:30:00    174   SCEL   SCFA    LAN  2017-11-05 14:51:00   \n",
              "freq                      6    686  68206   5787  37611                    5   \n",
              "first   2017-01-01 00:15:00    NaN    NaN    NaN    NaN  2017-01-01 00:04:00   \n",
              "last    2017-12-31 23:55:00    NaN    NaN    NaN    NaN  2018-01-01 00:12:00   \n",
              "mean                    NaN    NaN    NaN    NaN    NaN                  NaN   \n",
              "std                     NaN    NaN    NaN    NaN    NaN                  NaN   \n",
              "min                     NaN    NaN    NaN    NaN    NaN                  NaN   \n",
              "25%                     NaN    NaN    NaN    NaN    NaN                  NaN   \n",
              "50%                     NaN    NaN    NaN    NaN    NaN                  NaN   \n",
              "75%                     NaN    NaN    NaN    NaN    NaN                  NaN   \n",
              "max                     NaN    NaN    NaN    NaN    NaN                  NaN   \n",
              "\n",
              "        Vlo-O  Ori-O  Des-O  Emp-O           DIA           MES           AÑO  \\\n",
              "count   68205  68206  68206  68206  68206.000000  68206.000000  68206.000000   \n",
              "unique    861      1     63     32           NaN           NaN           NaN   \n",
              "top       174   SCEL   SCFA    LAN           NaN           NaN           NaN   \n",
              "freq      649  68206   5786  20988           NaN           NaN           NaN   \n",
              "first     NaN    NaN    NaN    NaN           NaN           NaN           NaN   \n",
              "last      NaN    NaN    NaN    NaN           NaN           NaN           NaN   \n",
              "mean      NaN    NaN    NaN    NaN     15.714790      6.622585   2017.000029   \n",
              "std       NaN    NaN    NaN    NaN      8.782886      3.523321      0.005415   \n",
              "min       NaN    NaN    NaN    NaN      1.000000      1.000000   2017.000000   \n",
              "25%       NaN    NaN    NaN    NaN      8.000000      3.000000   2017.000000   \n",
              "50%       NaN    NaN    NaN    NaN     16.000000      7.000000   2017.000000   \n",
              "75%       NaN    NaN    NaN    NaN     23.000000     10.000000   2017.000000   \n",
              "max       NaN    NaN    NaN    NaN     31.000000     12.000000   2018.000000   \n",
              "\n",
              "         DIANOM TIPOVUELO        OPERA  SIGLAORI      SIGLADES       dif_min  \\\n",
              "count     68206     68206        68206     68206         68206  68206.000000   \n",
              "unique        7         2           23         1            62           NaN   \n",
              "top     Viernes         N  Grupo LATAM  Santiago  Buenos Aires           NaN   \n",
              "freq      10292     36966        40892     68206          6335           NaN   \n",
              "first       NaN       NaN          NaN       NaN           NaN           NaN   \n",
              "last        NaN       NaN          NaN       NaN           NaN           NaN   \n",
              "mean        NaN       NaN          NaN       NaN           NaN      9.110855   \n",
              "std         NaN       NaN          NaN       NaN           NaN     19.313387   \n",
              "min         NaN       NaN          NaN       NaN           NaN    -14.000000   \n",
              "25%         NaN       NaN          NaN       NaN           NaN     -1.000000   \n",
              "50%         NaN       NaN          NaN       NaN           NaN      4.000000   \n",
              "75%         NaN       NaN          NaN       NaN           NaN     12.000000   \n",
              "max         NaN       NaN          NaN       NaN           NaN    161.000000   \n",
              "\n",
              "       atraso_15 temporada_alta periodo_dia  \n",
              "count      68206          68206       68206  \n",
              "unique         2              2           3  \n",
              "top            0              0       tarde  \n",
              "freq       55592          58051       25506  \n",
              "first        NaN            NaN         NaN  \n",
              "last         NaN            NaN         NaN  \n",
              "mean         NaN            NaN         NaN  \n",
              "std          NaN            NaN         NaN  \n",
              "min          NaN            NaN         NaN  \n",
              "25%          NaN            NaN         NaN  \n",
              "50%          NaN            NaN         NaN  \n",
              "75%          NaN            NaN         NaN  \n",
              "max          NaN            NaN         NaN  "
            ],
            "text/html": [
              "\n",
              "  <div id=\"df-e1ed94df-498f-4de5-b9be-c8e6a820ad6d\">\n",
              "    <div class=\"colab-df-container\">\n",
              "      <div>\n",
              "<style scoped>\n",
              "    .dataframe tbody tr th:only-of-type {\n",
              "        vertical-align: middle;\n",
              "    }\n",
              "\n",
              "    .dataframe tbody tr th {\n",
              "        vertical-align: top;\n",
              "    }\n",
              "\n",
              "    .dataframe thead th {\n",
              "        text-align: right;\n",
              "    }\n",
              "</style>\n",
              "<table border=\"1\" class=\"dataframe\">\n",
              "  <thead>\n",
              "    <tr style=\"text-align: right;\">\n",
              "      <th></th>\n",
              "      <th>Fecha-I</th>\n",
              "      <th>Vlo-I</th>\n",
              "      <th>Ori-I</th>\n",
              "      <th>Des-I</th>\n",
              "      <th>Emp-I</th>\n",
              "      <th>Fecha-O</th>\n",
              "      <th>Vlo-O</th>\n",
              "      <th>Ori-O</th>\n",
              "      <th>Des-O</th>\n",
              "      <th>Emp-O</th>\n",
              "      <th>DIA</th>\n",
              "      <th>MES</th>\n",
              "      <th>AÑO</th>\n",
              "      <th>DIANOM</th>\n",
              "      <th>TIPOVUELO</th>\n",
              "      <th>OPERA</th>\n",
              "      <th>SIGLAORI</th>\n",
              "      <th>SIGLADES</th>\n",
              "      <th>dif_min</th>\n",
              "      <th>atraso_15</th>\n",
              "      <th>temporada_alta</th>\n",
              "      <th>periodo_dia</th>\n",
              "    </tr>\n",
              "  </thead>\n",
              "  <tbody>\n",
              "    <tr>\n",
              "      <th>count</th>\n",
              "      <td>68206</td>\n",
              "      <td>68206</td>\n",
              "      <td>68206</td>\n",
              "      <td>68206</td>\n",
              "      <td>68206</td>\n",
              "      <td>68206</td>\n",
              "      <td>68205</td>\n",
              "      <td>68206</td>\n",
              "      <td>68206</td>\n",
              "      <td>68206</td>\n",
              "      <td>68206.000000</td>\n",
              "      <td>68206.000000</td>\n",
              "      <td>68206.000000</td>\n",
              "      <td>68206</td>\n",
              "      <td>68206</td>\n",
              "      <td>68206</td>\n",
              "      <td>68206</td>\n",
              "      <td>68206</td>\n",
              "      <td>68206.000000</td>\n",
              "      <td>68206</td>\n",
              "      <td>68206</td>\n",
              "      <td>68206</td>\n",
              "    </tr>\n",
              "    <tr>\n",
              "      <th>unique</th>\n",
              "      <td>53252</td>\n",
              "      <td>584</td>\n",
              "      <td>1</td>\n",
              "      <td>64</td>\n",
              "      <td>30</td>\n",
              "      <td>62774</td>\n",
              "      <td>861</td>\n",
              "      <td>1</td>\n",
              "      <td>63</td>\n",
              "      <td>32</td>\n",
              "      <td>NaN</td>\n",
              "      <td>NaN</td>\n",
              "      <td>NaN</td>\n",
              "      <td>7</td>\n",
              "      <td>2</td>\n",
              "      <td>23</td>\n",
              "      <td>1</td>\n",
              "      <td>62</td>\n",
              "      <td>NaN</td>\n",
              "      <td>2</td>\n",
              "      <td>2</td>\n",
              "      <td>3</td>\n",
              "    </tr>\n",
              "    <tr>\n",
              "      <th>top</th>\n",
              "      <td>2017-07-28 13:30:00</td>\n",
              "      <td>174</td>\n",
              "      <td>SCEL</td>\n",
              "      <td>SCFA</td>\n",
              "      <td>LAN</td>\n",
              "      <td>2017-11-05 14:51:00</td>\n",
              "      <td>174</td>\n",
              "      <td>SCEL</td>\n",
              "      <td>SCFA</td>\n",
              "      <td>LAN</td>\n",
              "      <td>NaN</td>\n",
              "      <td>NaN</td>\n",
              "      <td>NaN</td>\n",
              "      <td>Viernes</td>\n",
              "      <td>N</td>\n",
              "      <td>Grupo LATAM</td>\n",
              "      <td>Santiago</td>\n",
              "      <td>Buenos Aires</td>\n",
              "      <td>NaN</td>\n",
              "      <td>0</td>\n",
              "      <td>0</td>\n",
              "      <td>tarde</td>\n",
              "    </tr>\n",
              "    <tr>\n",
              "      <th>freq</th>\n",
              "      <td>6</td>\n",
              "      <td>686</td>\n",
              "      <td>68206</td>\n",
              "      <td>5787</td>\n",
              "      <td>37611</td>\n",
              "      <td>5</td>\n",
              "      <td>649</td>\n",
              "      <td>68206</td>\n",
              "      <td>5786</td>\n",
              "      <td>20988</td>\n",
              "      <td>NaN</td>\n",
              "      <td>NaN</td>\n",
              "      <td>NaN</td>\n",
              "      <td>10292</td>\n",
              "      <td>36966</td>\n",
              "      <td>40892</td>\n",
              "      <td>68206</td>\n",
              "      <td>6335</td>\n",
              "      <td>NaN</td>\n",
              "      <td>55592</td>\n",
              "      <td>58051</td>\n",
              "      <td>25506</td>\n",
              "    </tr>\n",
              "    <tr>\n",
              "      <th>first</th>\n",
              "      <td>2017-01-01 00:15:00</td>\n",
              "      <td>NaN</td>\n",
              "      <td>NaN</td>\n",
              "      <td>NaN</td>\n",
              "      <td>NaN</td>\n",
              "      <td>2017-01-01 00:04:00</td>\n",
              "      <td>NaN</td>\n",
              "      <td>NaN</td>\n",
              "      <td>NaN</td>\n",
              "      <td>NaN</td>\n",
              "      <td>NaN</td>\n",
              "      <td>NaN</td>\n",
              "      <td>NaN</td>\n",
              "      <td>NaN</td>\n",
              "      <td>NaN</td>\n",
              "      <td>NaN</td>\n",
              "      <td>NaN</td>\n",
              "      <td>NaN</td>\n",
              "      <td>NaN</td>\n",
              "      <td>NaN</td>\n",
              "      <td>NaN</td>\n",
              "      <td>NaN</td>\n",
              "    </tr>\n",
              "    <tr>\n",
              "      <th>last</th>\n",
              "      <td>2017-12-31 23:55:00</td>\n",
              "      <td>NaN</td>\n",
              "      <td>NaN</td>\n",
              "      <td>NaN</td>\n",
              "      <td>NaN</td>\n",
              "      <td>2018-01-01 00:12:00</td>\n",
              "      <td>NaN</td>\n",
              "      <td>NaN</td>\n",
              "      <td>NaN</td>\n",
              "      <td>NaN</td>\n",
              "      <td>NaN</td>\n",
              "      <td>NaN</td>\n",
              "      <td>NaN</td>\n",
              "      <td>NaN</td>\n",
              "      <td>NaN</td>\n",
              "      <td>NaN</td>\n",
              "      <td>NaN</td>\n",
              "      <td>NaN</td>\n",
              "      <td>NaN</td>\n",
              "      <td>NaN</td>\n",
              "      <td>NaN</td>\n",
              "      <td>NaN</td>\n",
              "    </tr>\n",
              "    <tr>\n",
              "      <th>mean</th>\n",
              "      <td>NaN</td>\n",
              "      <td>NaN</td>\n",
              "      <td>NaN</td>\n",
              "      <td>NaN</td>\n",
              "      <td>NaN</td>\n",
              "      <td>NaN</td>\n",
              "      <td>NaN</td>\n",
              "      <td>NaN</td>\n",
              "      <td>NaN</td>\n",
              "      <td>NaN</td>\n",
              "      <td>15.714790</td>\n",
              "      <td>6.622585</td>\n",
              "      <td>2017.000029</td>\n",
              "      <td>NaN</td>\n",
              "      <td>NaN</td>\n",
              "      <td>NaN</td>\n",
              "      <td>NaN</td>\n",
              "      <td>NaN</td>\n",
              "      <td>9.110855</td>\n",
              "      <td>NaN</td>\n",
              "      <td>NaN</td>\n",
              "      <td>NaN</td>\n",
              "    </tr>\n",
              "    <tr>\n",
              "      <th>std</th>\n",
              "      <td>NaN</td>\n",
              "      <td>NaN</td>\n",
              "      <td>NaN</td>\n",
              "      <td>NaN</td>\n",
              "      <td>NaN</td>\n",
              "      <td>NaN</td>\n",
              "      <td>NaN</td>\n",
              "      <td>NaN</td>\n",
              "      <td>NaN</td>\n",
              "      <td>NaN</td>\n",
              "      <td>8.782886</td>\n",
              "      <td>3.523321</td>\n",
              "      <td>0.005415</td>\n",
              "      <td>NaN</td>\n",
              "      <td>NaN</td>\n",
              "      <td>NaN</td>\n",
              "      <td>NaN</td>\n",
              "      <td>NaN</td>\n",
              "      <td>19.313387</td>\n",
              "      <td>NaN</td>\n",
              "      <td>NaN</td>\n",
              "      <td>NaN</td>\n",
              "    </tr>\n",
              "    <tr>\n",
              "      <th>min</th>\n",
              "      <td>NaN</td>\n",
              "      <td>NaN</td>\n",
              "      <td>NaN</td>\n",
              "      <td>NaN</td>\n",
              "      <td>NaN</td>\n",
              "      <td>NaN</td>\n",
              "      <td>NaN</td>\n",
              "      <td>NaN</td>\n",
              "      <td>NaN</td>\n",
              "      <td>NaN</td>\n",
              "      <td>1.000000</td>\n",
              "      <td>1.000000</td>\n",
              "      <td>2017.000000</td>\n",
              "      <td>NaN</td>\n",
              "      <td>NaN</td>\n",
              "      <td>NaN</td>\n",
              "      <td>NaN</td>\n",
              "      <td>NaN</td>\n",
              "      <td>-14.000000</td>\n",
              "      <td>NaN</td>\n",
              "      <td>NaN</td>\n",
              "      <td>NaN</td>\n",
              "    </tr>\n",
              "    <tr>\n",
              "      <th>25%</th>\n",
              "      <td>NaN</td>\n",
              "      <td>NaN</td>\n",
              "      <td>NaN</td>\n",
              "      <td>NaN</td>\n",
              "      <td>NaN</td>\n",
              "      <td>NaN</td>\n",
              "      <td>NaN</td>\n",
              "      <td>NaN</td>\n",
              "      <td>NaN</td>\n",
              "      <td>NaN</td>\n",
              "      <td>8.000000</td>\n",
              "      <td>3.000000</td>\n",
              "      <td>2017.000000</td>\n",
              "      <td>NaN</td>\n",
              "      <td>NaN</td>\n",
              "      <td>NaN</td>\n",
              "      <td>NaN</td>\n",
              "      <td>NaN</td>\n",
              "      <td>-1.000000</td>\n",
              "      <td>NaN</td>\n",
              "      <td>NaN</td>\n",
              "      <td>NaN</td>\n",
              "    </tr>\n",
              "    <tr>\n",
              "      <th>50%</th>\n",
              "      <td>NaN</td>\n",
              "      <td>NaN</td>\n",
              "      <td>NaN</td>\n",
              "      <td>NaN</td>\n",
              "      <td>NaN</td>\n",
              "      <td>NaN</td>\n",
              "      <td>NaN</td>\n",
              "      <td>NaN</td>\n",
              "      <td>NaN</td>\n",
              "      <td>NaN</td>\n",
              "      <td>16.000000</td>\n",
              "      <td>7.000000</td>\n",
              "      <td>2017.000000</td>\n",
              "      <td>NaN</td>\n",
              "      <td>NaN</td>\n",
              "      <td>NaN</td>\n",
              "      <td>NaN</td>\n",
              "      <td>NaN</td>\n",
              "      <td>4.000000</td>\n",
              "      <td>NaN</td>\n",
              "      <td>NaN</td>\n",
              "      <td>NaN</td>\n",
              "    </tr>\n",
              "    <tr>\n",
              "      <th>75%</th>\n",
              "      <td>NaN</td>\n",
              "      <td>NaN</td>\n",
              "      <td>NaN</td>\n",
              "      <td>NaN</td>\n",
              "      <td>NaN</td>\n",
              "      <td>NaN</td>\n",
              "      <td>NaN</td>\n",
              "      <td>NaN</td>\n",
              "      <td>NaN</td>\n",
              "      <td>NaN</td>\n",
              "      <td>23.000000</td>\n",
              "      <td>10.000000</td>\n",
              "      <td>2017.000000</td>\n",
              "      <td>NaN</td>\n",
              "      <td>NaN</td>\n",
              "      <td>NaN</td>\n",
              "      <td>NaN</td>\n",
              "      <td>NaN</td>\n",
              "      <td>12.000000</td>\n",
              "      <td>NaN</td>\n",
              "      <td>NaN</td>\n",
              "      <td>NaN</td>\n",
              "    </tr>\n",
              "    <tr>\n",
              "      <th>max</th>\n",
              "      <td>NaN</td>\n",
              "      <td>NaN</td>\n",
              "      <td>NaN</td>\n",
              "      <td>NaN</td>\n",
              "      <td>NaN</td>\n",
              "      <td>NaN</td>\n",
              "      <td>NaN</td>\n",
              "      <td>NaN</td>\n",
              "      <td>NaN</td>\n",
              "      <td>NaN</td>\n",
              "      <td>31.000000</td>\n",
              "      <td>12.000000</td>\n",
              "      <td>2018.000000</td>\n",
              "      <td>NaN</td>\n",
              "      <td>NaN</td>\n",
              "      <td>NaN</td>\n",
              "      <td>NaN</td>\n",
              "      <td>NaN</td>\n",
              "      <td>161.000000</td>\n",
              "      <td>NaN</td>\n",
              "      <td>NaN</td>\n",
              "      <td>NaN</td>\n",
              "    </tr>\n",
              "  </tbody>\n",
              "</table>\n",
              "</div>\n",
              "      <button class=\"colab-df-convert\" onclick=\"convertToInteractive('df-e1ed94df-498f-4de5-b9be-c8e6a820ad6d')\"\n",
              "              title=\"Convert this dataframe to an interactive table.\"\n",
              "              style=\"display:none;\">\n",
              "        \n",
              "  <svg xmlns=\"http://www.w3.org/2000/svg\" height=\"24px\"viewBox=\"0 0 24 24\"\n",
              "       width=\"24px\">\n",
              "    <path d=\"M0 0h24v24H0V0z\" fill=\"none\"/>\n",
              "    <path d=\"M18.56 5.44l.94 2.06.94-2.06 2.06-.94-2.06-.94-.94-2.06-.94 2.06-2.06.94zm-11 1L8.5 8.5l.94-2.06 2.06-.94-2.06-.94L8.5 2.5l-.94 2.06-2.06.94zm10 10l.94 2.06.94-2.06 2.06-.94-2.06-.94-.94-2.06-.94 2.06-2.06.94z\"/><path d=\"M17.41 7.96l-1.37-1.37c-.4-.4-.92-.59-1.43-.59-.52 0-1.04.2-1.43.59L10.3 9.45l-7.72 7.72c-.78.78-.78 2.05 0 2.83L4 21.41c.39.39.9.59 1.41.59.51 0 1.02-.2 1.41-.59l7.78-7.78 2.81-2.81c.8-.78.8-2.07 0-2.86zM5.41 20L4 18.59l7.72-7.72 1.47 1.35L5.41 20z\"/>\n",
              "  </svg>\n",
              "      </button>\n",
              "      \n",
              "  <style>\n",
              "    .colab-df-container {\n",
              "      display:flex;\n",
              "      flex-wrap:wrap;\n",
              "      gap: 12px;\n",
              "    }\n",
              "\n",
              "    .colab-df-convert {\n",
              "      background-color: #E8F0FE;\n",
              "      border: none;\n",
              "      border-radius: 50%;\n",
              "      cursor: pointer;\n",
              "      display: none;\n",
              "      fill: #1967D2;\n",
              "      height: 32px;\n",
              "      padding: 0 0 0 0;\n",
              "      width: 32px;\n",
              "    }\n",
              "\n",
              "    .colab-df-convert:hover {\n",
              "      background-color: #E2EBFA;\n",
              "      box-shadow: 0px 1px 2px rgba(60, 64, 67, 0.3), 0px 1px 3px 1px rgba(60, 64, 67, 0.15);\n",
              "      fill: #174EA6;\n",
              "    }\n",
              "\n",
              "    [theme=dark] .colab-df-convert {\n",
              "      background-color: #3B4455;\n",
              "      fill: #D2E3FC;\n",
              "    }\n",
              "\n",
              "    [theme=dark] .colab-df-convert:hover {\n",
              "      background-color: #434B5C;\n",
              "      box-shadow: 0px 1px 3px 1px rgba(0, 0, 0, 0.15);\n",
              "      filter: drop-shadow(0px 1px 2px rgba(0, 0, 0, 0.3));\n",
              "      fill: #FFFFFF;\n",
              "    }\n",
              "  </style>\n",
              "\n",
              "      <script>\n",
              "        const buttonEl =\n",
              "          document.querySelector('#df-e1ed94df-498f-4de5-b9be-c8e6a820ad6d button.colab-df-convert');\n",
              "        buttonEl.style.display =\n",
              "          google.colab.kernel.accessAllowed ? 'block' : 'none';\n",
              "\n",
              "        async function convertToInteractive(key) {\n",
              "          const element = document.querySelector('#df-e1ed94df-498f-4de5-b9be-c8e6a820ad6d');\n",
              "          const dataTable =\n",
              "            await google.colab.kernel.invokeFunction('convertToInteractive',\n",
              "                                                     [key], {});\n",
              "          if (!dataTable) return;\n",
              "\n",
              "          const docLinkHtml = 'Like what you see? Visit the ' +\n",
              "            '<a target=\"_blank\" href=https://colab.research.google.com/notebooks/data_table.ipynb>data table notebook</a>'\n",
              "            + ' to learn more about interactive tables.';\n",
              "          element.innerHTML = '';\n",
              "          dataTable['output_type'] = 'display_data';\n",
              "          await google.colab.output.renderOutput(dataTable, element);\n",
              "          const docLink = document.createElement('div');\n",
              "          docLink.innerHTML = docLinkHtml;\n",
              "          element.appendChild(docLink);\n",
              "        }\n",
              "      </script>\n",
              "    </div>\n",
              "  </div>\n",
              "  "
            ]
          },
          "metadata": {},
          "execution_count": 19
        }
      ]
    },
    {
      "cell_type": "markdown",
      "source": [
        "## Renombramiento de variables"
      ],
      "metadata": {
        "id": "40TVrDiEGEKA"
      }
    },
    {
      "cell_type": "code",
      "source": [
        "dfVuelos.columns"
      ],
      "metadata": {
        "colab": {
          "base_uri": "https://localhost:8080/"
        },
        "id": "Sf49q_pO9_AH",
        "outputId": "710b597a-41fd-435d-dd20-248773f9d953"
      },
      "execution_count": 20,
      "outputs": [
        {
          "output_type": "execute_result",
          "data": {
            "text/plain": [
              "Index(['Fecha-I', 'Vlo-I', 'Ori-I', 'Des-I', 'Emp-I', 'Fecha-O', 'Vlo-O',\n",
              "       'Ori-O', 'Des-O', 'Emp-O', 'DIA', 'MES', 'AÑO', 'DIANOM', 'TIPOVUELO',\n",
              "       'OPERA', 'SIGLAORI', 'SIGLADES', 'dif_min', 'atraso_15',\n",
              "       'temporada_alta', 'periodo_dia'],\n",
              "      dtype='object')"
            ]
          },
          "metadata": {},
          "execution_count": 20
        }
      ]
    },
    {
      "cell_type": "code",
      "source": [
        "# Renombrado de variables:\n",
        "dfVuelos.rename(columns={\n",
        "   'Fecha-I':'fecVueloProg',\n",
        "   'Vlo-I':'nroVueloProg',\n",
        "   'Ori-I': 'codCiudadOriProg',\n",
        "   'Des-I': 'codCiudadDestProg',\n",
        "   'Emp-I': 'codAeroVueloProg',\n",
        "   'Fecha-O':'fecVueloOper',\n",
        "   'Vlo-O':'nroVueloOper',\n",
        "   'Ori-O': 'codCiudadOriOper',\n",
        "   'Des-O': 'codCiudadDestOper',\n",
        "   'Emp-O': 'codAeroVueloOper',\n",
        "   'DIA': 'diaMesOperVuelo',\n",
        "   'MES': 'nroMesOperVuelo',\n",
        "   'AÑO': 'anioOperVuelo',\n",
        "   'DIANOM':'diaSem',\n",
        "   'TIPOVUELO': 'tipVuelo',\n",
        "   'OPERA': 'aerolineaOpera',\n",
        "   'SIGLAORI': 'nombCiudadOrig',\n",
        "   'SIGLADES': 'nombCiudadDest',\n",
        "   'dif_min':'difMinfecProgYfecOper',\n",
        "   'atraso_15':'target',\n",
        "   'temporada_alta':'temporadaAlta',\n",
        "   'periodo_dia':'partesDia'},inplace=True)"
      ],
      "metadata": {
        "id": "yINignNJF9-4"
      },
      "execution_count": 21,
      "outputs": []
    },
    {
      "cell_type": "code",
      "source": [
        "dfVuelos.columns"
      ],
      "metadata": {
        "colab": {
          "base_uri": "https://localhost:8080/"
        },
        "id": "KHah9TCgBM6y",
        "outputId": "5de6ad23-18e3-464f-ee1c-5034d107f812"
      },
      "execution_count": 22,
      "outputs": [
        {
          "output_type": "execute_result",
          "data": {
            "text/plain": [
              "Index(['fecVueloProg', 'nroVueloProg', 'codCiudadOriProg', 'codCiudadDestProg',\n",
              "       'codAeroVueloProg', 'fecVueloOper', 'nroVueloOper', 'codCiudadOriOper',\n",
              "       'codCiudadDestOper', 'codAeroVueloOper', 'diaMesOperVuelo',\n",
              "       'nroMesOperVuelo', 'anioOperVuelo', 'diaSem', 'tipVuelo',\n",
              "       'aerolineaOpera', 'nombCiudadOrig', 'nombCiudadDest',\n",
              "       'difMinfecProgYfecOper', 'target', 'temporadaAlta', 'partesDia'],\n",
              "      dtype='object')"
            ]
          },
          "metadata": {},
          "execution_count": 22
        }
      ]
    },
    {
      "cell_type": "markdown",
      "source": [
        "# Data Wrangling"
      ],
      "metadata": {
        "id": "tZ2Fur9KAlEA"
      }
    },
    {
      "cell_type": "markdown",
      "source": [
        "## Analisis Preliminar Univariado"
      ],
      "metadata": {
        "id": "1nPJcggKBgBE"
      }
    },
    {
      "cell_type": "code",
      "source": [
        "df_analisis = dfVuelos.copy()"
      ],
      "metadata": {
        "id": "6_7NC6Vt_rBe"
      },
      "execution_count": 23,
      "outputs": []
    },
    {
      "cell_type": "markdown",
      "source": [
        "### Analisis inicial de datos"
      ],
      "metadata": {
        "id": "cIKDHH2_FMQp"
      }
    },
    {
      "cell_type": "markdown",
      "source": [
        "**Análisis de las variables: codCiudadOriProg, codCiudadOriOper y nombCiudadOrig**"
      ],
      "metadata": {
        "id": "oZ2GY7dn_ZjB"
      }
    },
    {
      "cell_type": "code",
      "source": [
        "df_analisis[['codCiudadOriProg','codCiudadOriOper','nombCiudadOrig']].describe(include='all')"
      ],
      "metadata": {
        "colab": {
          "base_uri": "https://localhost:8080/",
          "height": 175
        },
        "id": "cn5j__I1QhZ8",
        "outputId": "d65d73ed-4c2c-4e0d-9d50-9b5fbcec001c"
      },
      "execution_count": 24,
      "outputs": [
        {
          "output_type": "execute_result",
          "data": {
            "text/plain": [
              "       codCiudadOriProg codCiudadOriOper nombCiudadOrig\n",
              "count             68206            68206          68206\n",
              "unique                1                1              1\n",
              "top                SCEL             SCEL       Santiago\n",
              "freq              68206            68206          68206"
            ],
            "text/html": [
              "\n",
              "  <div id=\"df-c1a2a769-8442-4767-ab21-be3bd8e70775\">\n",
              "    <div class=\"colab-df-container\">\n",
              "      <div>\n",
              "<style scoped>\n",
              "    .dataframe tbody tr th:only-of-type {\n",
              "        vertical-align: middle;\n",
              "    }\n",
              "\n",
              "    .dataframe tbody tr th {\n",
              "        vertical-align: top;\n",
              "    }\n",
              "\n",
              "    .dataframe thead th {\n",
              "        text-align: right;\n",
              "    }\n",
              "</style>\n",
              "<table border=\"1\" class=\"dataframe\">\n",
              "  <thead>\n",
              "    <tr style=\"text-align: right;\">\n",
              "      <th></th>\n",
              "      <th>codCiudadOriProg</th>\n",
              "      <th>codCiudadOriOper</th>\n",
              "      <th>nombCiudadOrig</th>\n",
              "    </tr>\n",
              "  </thead>\n",
              "  <tbody>\n",
              "    <tr>\n",
              "      <th>count</th>\n",
              "      <td>68206</td>\n",
              "      <td>68206</td>\n",
              "      <td>68206</td>\n",
              "    </tr>\n",
              "    <tr>\n",
              "      <th>unique</th>\n",
              "      <td>1</td>\n",
              "      <td>1</td>\n",
              "      <td>1</td>\n",
              "    </tr>\n",
              "    <tr>\n",
              "      <th>top</th>\n",
              "      <td>SCEL</td>\n",
              "      <td>SCEL</td>\n",
              "      <td>Santiago</td>\n",
              "    </tr>\n",
              "    <tr>\n",
              "      <th>freq</th>\n",
              "      <td>68206</td>\n",
              "      <td>68206</td>\n",
              "      <td>68206</td>\n",
              "    </tr>\n",
              "  </tbody>\n",
              "</table>\n",
              "</div>\n",
              "      <button class=\"colab-df-convert\" onclick=\"convertToInteractive('df-c1a2a769-8442-4767-ab21-be3bd8e70775')\"\n",
              "              title=\"Convert this dataframe to an interactive table.\"\n",
              "              style=\"display:none;\">\n",
              "        \n",
              "  <svg xmlns=\"http://www.w3.org/2000/svg\" height=\"24px\"viewBox=\"0 0 24 24\"\n",
              "       width=\"24px\">\n",
              "    <path d=\"M0 0h24v24H0V0z\" fill=\"none\"/>\n",
              "    <path d=\"M18.56 5.44l.94 2.06.94-2.06 2.06-.94-2.06-.94-.94-2.06-.94 2.06-2.06.94zm-11 1L8.5 8.5l.94-2.06 2.06-.94-2.06-.94L8.5 2.5l-.94 2.06-2.06.94zm10 10l.94 2.06.94-2.06 2.06-.94-2.06-.94-.94-2.06-.94 2.06-2.06.94z\"/><path d=\"M17.41 7.96l-1.37-1.37c-.4-.4-.92-.59-1.43-.59-.52 0-1.04.2-1.43.59L10.3 9.45l-7.72 7.72c-.78.78-.78 2.05 0 2.83L4 21.41c.39.39.9.59 1.41.59.51 0 1.02-.2 1.41-.59l7.78-7.78 2.81-2.81c.8-.78.8-2.07 0-2.86zM5.41 20L4 18.59l7.72-7.72 1.47 1.35L5.41 20z\"/>\n",
              "  </svg>\n",
              "      </button>\n",
              "      \n",
              "  <style>\n",
              "    .colab-df-container {\n",
              "      display:flex;\n",
              "      flex-wrap:wrap;\n",
              "      gap: 12px;\n",
              "    }\n",
              "\n",
              "    .colab-df-convert {\n",
              "      background-color: #E8F0FE;\n",
              "      border: none;\n",
              "      border-radius: 50%;\n",
              "      cursor: pointer;\n",
              "      display: none;\n",
              "      fill: #1967D2;\n",
              "      height: 32px;\n",
              "      padding: 0 0 0 0;\n",
              "      width: 32px;\n",
              "    }\n",
              "\n",
              "    .colab-df-convert:hover {\n",
              "      background-color: #E2EBFA;\n",
              "      box-shadow: 0px 1px 2px rgba(60, 64, 67, 0.3), 0px 1px 3px 1px rgba(60, 64, 67, 0.15);\n",
              "      fill: #174EA6;\n",
              "    }\n",
              "\n",
              "    [theme=dark] .colab-df-convert {\n",
              "      background-color: #3B4455;\n",
              "      fill: #D2E3FC;\n",
              "    }\n",
              "\n",
              "    [theme=dark] .colab-df-convert:hover {\n",
              "      background-color: #434B5C;\n",
              "      box-shadow: 0px 1px 3px 1px rgba(0, 0, 0, 0.15);\n",
              "      filter: drop-shadow(0px 1px 2px rgba(0, 0, 0, 0.3));\n",
              "      fill: #FFFFFF;\n",
              "    }\n",
              "  </style>\n",
              "\n",
              "      <script>\n",
              "        const buttonEl =\n",
              "          document.querySelector('#df-c1a2a769-8442-4767-ab21-be3bd8e70775 button.colab-df-convert');\n",
              "        buttonEl.style.display =\n",
              "          google.colab.kernel.accessAllowed ? 'block' : 'none';\n",
              "\n",
              "        async function convertToInteractive(key) {\n",
              "          const element = document.querySelector('#df-c1a2a769-8442-4767-ab21-be3bd8e70775');\n",
              "          const dataTable =\n",
              "            await google.colab.kernel.invokeFunction('convertToInteractive',\n",
              "                                                     [key], {});\n",
              "          if (!dataTable) return;\n",
              "\n",
              "          const docLinkHtml = 'Like what you see? Visit the ' +\n",
              "            '<a target=\"_blank\" href=https://colab.research.google.com/notebooks/data_table.ipynb>data table notebook</a>'\n",
              "            + ' to learn more about interactive tables.';\n",
              "          element.innerHTML = '';\n",
              "          dataTable['output_type'] = 'display_data';\n",
              "          await google.colab.output.renderOutput(dataTable, element);\n",
              "          const docLink = document.createElement('div');\n",
              "          docLink.innerHTML = docLinkHtml;\n",
              "          element.appendChild(docLink);\n",
              "        }\n",
              "      </script>\n",
              "    </div>\n",
              "  </div>\n",
              "  "
            ]
          },
          "metadata": {},
          "execution_count": 24
        }
      ]
    },
    {
      "cell_type": "markdown",
      "source": [
        "Algunas consideraciones relacionadas con las variables:\n",
        "\n",
        "- Las variables: **codCiudadOriProg** y **codCiudadOriOper** que describen el código de ciudad de origen programado y codigo de ciudad de origen de operación por tener un único valor se comportan como una **columna constante de varianza nula**, en ese sentido, esta columna será eliminada posteriormente ya que no aporta en la diferenciación de una clase(1) con otra(0). Se evidencia que todos los vuelos parten de Santiago de Chile. \n",
        "- Nos quedaremos con **nombCiudadOrig** para el análisis exploratorio de los datos, para el entrenamiento del modelo será igualmente eliminada, por ser una **columna constante de varianza nula**"
      ],
      "metadata": {
        "id": "KB4b9Cis5qo2"
      }
    },
    {
      "cell_type": "code",
      "source": [
        "df_analisis.drop('codCiudadOriProg', axis=1, inplace=True)\n",
        "df_analisis.drop('codCiudadOriOper', axis=1, inplace=True)"
      ],
      "metadata": {
        "id": "g7ZB7og3ee9U"
      },
      "execution_count": 25,
      "outputs": []
    },
    {
      "cell_type": "markdown",
      "source": [
        "**Análisis de las variables: \n",
        "nroVueloProg, codCiudadDestProg, codAeroVueloProg | \n",
        "nroVueloOper, codCiudadDestOper, codAeroVueloOper**"
      ],
      "metadata": {
        "id": "M_i7tbS2_V3l"
      }
    },
    {
      "cell_type": "code",
      "source": [
        "df_analisis[['nroVueloProg','nroVueloOper','codCiudadDestProg','codCiudadDestOper','codAeroVueloProg','codAeroVueloOper']].describe(include='all')"
      ],
      "metadata": {
        "colab": {
          "base_uri": "https://localhost:8080/",
          "height": 175
        },
        "id": "TVuALY_QE6B5",
        "outputId": "41676261-d8b0-4bf8-cba8-7ce5ec09af62"
      },
      "execution_count": 26,
      "outputs": [
        {
          "output_type": "execute_result",
          "data": {
            "text/plain": [
              "       nroVueloProg nroVueloOper codCiudadDestProg codCiudadDestOper  \\\n",
              "count         68206        68205             68206             68206   \n",
              "unique          584          861                64                63   \n",
              "top             174          174              SCFA              SCFA   \n",
              "freq            686          649              5787              5786   \n",
              "\n",
              "       codAeroVueloProg codAeroVueloOper  \n",
              "count             68206            68206  \n",
              "unique               30               32  \n",
              "top                 LAN              LAN  \n",
              "freq              37611            20988  "
            ],
            "text/html": [
              "\n",
              "  <div id=\"df-197bc510-85e5-499f-857d-e78aea873513\">\n",
              "    <div class=\"colab-df-container\">\n",
              "      <div>\n",
              "<style scoped>\n",
              "    .dataframe tbody tr th:only-of-type {\n",
              "        vertical-align: middle;\n",
              "    }\n",
              "\n",
              "    .dataframe tbody tr th {\n",
              "        vertical-align: top;\n",
              "    }\n",
              "\n",
              "    .dataframe thead th {\n",
              "        text-align: right;\n",
              "    }\n",
              "</style>\n",
              "<table border=\"1\" class=\"dataframe\">\n",
              "  <thead>\n",
              "    <tr style=\"text-align: right;\">\n",
              "      <th></th>\n",
              "      <th>nroVueloProg</th>\n",
              "      <th>nroVueloOper</th>\n",
              "      <th>codCiudadDestProg</th>\n",
              "      <th>codCiudadDestOper</th>\n",
              "      <th>codAeroVueloProg</th>\n",
              "      <th>codAeroVueloOper</th>\n",
              "    </tr>\n",
              "  </thead>\n",
              "  <tbody>\n",
              "    <tr>\n",
              "      <th>count</th>\n",
              "      <td>68206</td>\n",
              "      <td>68205</td>\n",
              "      <td>68206</td>\n",
              "      <td>68206</td>\n",
              "      <td>68206</td>\n",
              "      <td>68206</td>\n",
              "    </tr>\n",
              "    <tr>\n",
              "      <th>unique</th>\n",
              "      <td>584</td>\n",
              "      <td>861</td>\n",
              "      <td>64</td>\n",
              "      <td>63</td>\n",
              "      <td>30</td>\n",
              "      <td>32</td>\n",
              "    </tr>\n",
              "    <tr>\n",
              "      <th>top</th>\n",
              "      <td>174</td>\n",
              "      <td>174</td>\n",
              "      <td>SCFA</td>\n",
              "      <td>SCFA</td>\n",
              "      <td>LAN</td>\n",
              "      <td>LAN</td>\n",
              "    </tr>\n",
              "    <tr>\n",
              "      <th>freq</th>\n",
              "      <td>686</td>\n",
              "      <td>649</td>\n",
              "      <td>5787</td>\n",
              "      <td>5786</td>\n",
              "      <td>37611</td>\n",
              "      <td>20988</td>\n",
              "    </tr>\n",
              "  </tbody>\n",
              "</table>\n",
              "</div>\n",
              "      <button class=\"colab-df-convert\" onclick=\"convertToInteractive('df-197bc510-85e5-499f-857d-e78aea873513')\"\n",
              "              title=\"Convert this dataframe to an interactive table.\"\n",
              "              style=\"display:none;\">\n",
              "        \n",
              "  <svg xmlns=\"http://www.w3.org/2000/svg\" height=\"24px\"viewBox=\"0 0 24 24\"\n",
              "       width=\"24px\">\n",
              "    <path d=\"M0 0h24v24H0V0z\" fill=\"none\"/>\n",
              "    <path d=\"M18.56 5.44l.94 2.06.94-2.06 2.06-.94-2.06-.94-.94-2.06-.94 2.06-2.06.94zm-11 1L8.5 8.5l.94-2.06 2.06-.94-2.06-.94L8.5 2.5l-.94 2.06-2.06.94zm10 10l.94 2.06.94-2.06 2.06-.94-2.06-.94-.94-2.06-.94 2.06-2.06.94z\"/><path d=\"M17.41 7.96l-1.37-1.37c-.4-.4-.92-.59-1.43-.59-.52 0-1.04.2-1.43.59L10.3 9.45l-7.72 7.72c-.78.78-.78 2.05 0 2.83L4 21.41c.39.39.9.59 1.41.59.51 0 1.02-.2 1.41-.59l7.78-7.78 2.81-2.81c.8-.78.8-2.07 0-2.86zM5.41 20L4 18.59l7.72-7.72 1.47 1.35L5.41 20z\"/>\n",
              "  </svg>\n",
              "      </button>\n",
              "      \n",
              "  <style>\n",
              "    .colab-df-container {\n",
              "      display:flex;\n",
              "      flex-wrap:wrap;\n",
              "      gap: 12px;\n",
              "    }\n",
              "\n",
              "    .colab-df-convert {\n",
              "      background-color: #E8F0FE;\n",
              "      border: none;\n",
              "      border-radius: 50%;\n",
              "      cursor: pointer;\n",
              "      display: none;\n",
              "      fill: #1967D2;\n",
              "      height: 32px;\n",
              "      padding: 0 0 0 0;\n",
              "      width: 32px;\n",
              "    }\n",
              "\n",
              "    .colab-df-convert:hover {\n",
              "      background-color: #E2EBFA;\n",
              "      box-shadow: 0px 1px 2px rgba(60, 64, 67, 0.3), 0px 1px 3px 1px rgba(60, 64, 67, 0.15);\n",
              "      fill: #174EA6;\n",
              "    }\n",
              "\n",
              "    [theme=dark] .colab-df-convert {\n",
              "      background-color: #3B4455;\n",
              "      fill: #D2E3FC;\n",
              "    }\n",
              "\n",
              "    [theme=dark] .colab-df-convert:hover {\n",
              "      background-color: #434B5C;\n",
              "      box-shadow: 0px 1px 3px 1px rgba(0, 0, 0, 0.15);\n",
              "      filter: drop-shadow(0px 1px 2px rgba(0, 0, 0, 0.3));\n",
              "      fill: #FFFFFF;\n",
              "    }\n",
              "  </style>\n",
              "\n",
              "      <script>\n",
              "        const buttonEl =\n",
              "          document.querySelector('#df-197bc510-85e5-499f-857d-e78aea873513 button.colab-df-convert');\n",
              "        buttonEl.style.display =\n",
              "          google.colab.kernel.accessAllowed ? 'block' : 'none';\n",
              "\n",
              "        async function convertToInteractive(key) {\n",
              "          const element = document.querySelector('#df-197bc510-85e5-499f-857d-e78aea873513');\n",
              "          const dataTable =\n",
              "            await google.colab.kernel.invokeFunction('convertToInteractive',\n",
              "                                                     [key], {});\n",
              "          if (!dataTable) return;\n",
              "\n",
              "          const docLinkHtml = 'Like what you see? Visit the ' +\n",
              "            '<a target=\"_blank\" href=https://colab.research.google.com/notebooks/data_table.ipynb>data table notebook</a>'\n",
              "            + ' to learn more about interactive tables.';\n",
              "          element.innerHTML = '';\n",
              "          dataTable['output_type'] = 'display_data';\n",
              "          await google.colab.output.renderOutput(dataTable, element);\n",
              "          const docLink = document.createElement('div');\n",
              "          docLink.innerHTML = docLinkHtml;\n",
              "          element.appendChild(docLink);\n",
              "        }\n",
              "      </script>\n",
              "    </div>\n",
              "  </div>\n",
              "  "
            ]
          },
          "metadata": {},
          "execution_count": 26
        }
      ]
    },
    {
      "cell_type": "code",
      "source": [
        "#df_analisis.nroVueloProg.value_counts(normalize = True)*100"
      ],
      "metadata": {
        "id": "o4D2WJrcVznn"
      },
      "execution_count": 27,
      "outputs": []
    },
    {
      "cell_type": "code",
      "source": [
        "#df_analisis.nroVueloOper.value_counts(normalize = True)*100"
      ],
      "metadata": {
        "id": "7g7xO9R-V8wi"
      },
      "execution_count": 28,
      "outputs": []
    },
    {
      "cell_type": "markdown",
      "source": [
        "Se puede observar muchas categorias en las variables **nroVueloProg** y **nroVueloOper**, esto es un sintoma de mucha variabilidad que no ayuda en la diferencia de una clase con otra. Serán eliminadas"
      ],
      "metadata": {
        "id": "6bMcNIZjRtcD"
      }
    },
    {
      "cell_type": "code",
      "source": [
        "df_analisis.codCiudadDestProg.value_counts(normalize = True)*100"
      ],
      "metadata": {
        "colab": {
          "base_uri": "https://localhost:8080/"
        },
        "id": "jaNkL_vZW6u3",
        "outputId": "52e4fd8b-c8c2-4f93-879c-8f99e1390c30"
      },
      "execution_count": 29,
      "outputs": [
        {
          "output_type": "execute_result",
          "data": {
            "text/plain": [
              "SCFA    8.484591\n",
              "SPJC    7.726593\n",
              "SCCF    7.543325\n",
              "SCTE    6.388001\n",
              "SCIE    5.857256\n",
              "SCDA    5.493652\n",
              "SBGR    5.234144\n",
              "SAEZ    4.750315\n",
              "SABE    4.536258\n",
              "SCQP    3.787057\n",
              "SCAR    3.571533\n",
              "SCSE    3.533413\n",
              "SCCI    3.086239\n",
              "MPTO    2.712371\n",
              "SCAT    2.609741\n",
              "SAME    2.382488\n",
              "SKBO    2.351699\n",
              "SBGL    2.102454\n",
              "SUMU    1.562912\n",
              "SACO    1.499868\n",
              "KMIA    1.488139\n",
              "LEMD    1.310735\n",
              "SCBA    1.235962\n",
              "SCVD    1.104008\n",
              "MMMX    1.026303\n",
              "SCIP    0.662698\n",
              "SEGU    0.620180\n",
              "KJFK    0.561534\n",
              "NZAA    0.529279\n",
              "LFPG    0.526347\n",
              "KATL    0.524881\n",
              "KDFW    0.523414\n",
              "KIAH    0.491159\n",
              "CYYZ    0.414920\n",
              "LIRF    0.379732\n",
              "SCJO    0.379732\n",
              "SCPQ    0.344544\n",
              "SGAS    0.340146\n",
              "SLLP    0.306425\n",
              "EGLL    0.300560\n",
              "YSSY    0.285899\n",
              "SBFL    0.237516\n",
              "KLAX    0.227253\n",
              "SAAR    0.199396\n",
              "SLVR    0.175938\n",
              "SCNT    0.115826\n",
              "MMUN    0.092367\n",
              "MDPC    0.079172\n",
              "SANT    0.055714\n",
              "YMML    0.055714\n",
              "SAZN    0.054247\n",
              "SANU    0.051315\n",
              "KMCO    0.049849\n",
              "SAWH    0.008797\n",
              "SULS    0.008797\n",
              "SBCT    0.004398\n",
              "SAZS    0.002932\n",
              "SLCB    0.001466\n",
              "EGYP    0.001466\n",
              "SBFI    0.001466\n",
              "SPSO    0.001466\n",
              "SEQU    0.001466\n",
              "SEQM    0.001466\n",
              "SARI    0.001466\n",
              "Name: codCiudadDestProg, dtype: float64"
            ]
          },
          "metadata": {},
          "execution_count": 29
        }
      ]
    },
    {
      "cell_type": "code",
      "source": [
        "df_analisis.codCiudadDestOper.value_counts(normalize = True)*100"
      ],
      "metadata": {
        "colab": {
          "base_uri": "https://localhost:8080/"
        },
        "id": "sAkC5HhOYgKv",
        "outputId": "ad093001-8b3b-4493-e834-0cac0b861c2e"
      },
      "execution_count": 30,
      "outputs": [
        {
          "output_type": "execute_result",
          "data": {
            "text/plain": [
              "SCFA    8.483125\n",
              "SPJC    7.726593\n",
              "SCCF    7.544791\n",
              "SCTE    6.388001\n",
              "SCIE    5.854324\n",
              "SCDA    5.493652\n",
              "SBGR    5.232677\n",
              "SAEZ    4.751781\n",
              "SABE    4.536258\n",
              "SCQP    3.795854\n",
              "SCAR    3.571533\n",
              "SCSE    3.533413\n",
              "SCCI    3.086239\n",
              "MPTO    2.712371\n",
              "SCAT    2.609741\n",
              "SAME    2.382488\n",
              "SKBO    2.351699\n",
              "SBGL    2.103920\n",
              "SUMU    1.562912\n",
              "SACO    1.499868\n",
              "KMIA    1.489605\n",
              "LEMD    1.310735\n",
              "SCBA    1.230097\n",
              "SCVD    1.104008\n",
              "MMMX    1.026303\n",
              "SCIP    0.662698\n",
              "SEGU    0.618714\n",
              "KJFK    0.560068\n",
              "NZAA    0.529279\n",
              "LFPG    0.526347\n",
              "KATL    0.524881\n",
              "KDFW    0.523414\n",
              "KIAH    0.489693\n",
              "CYYZ    0.414920\n",
              "SCJO    0.379732\n",
              "LIRF    0.379732\n",
              "SCPQ    0.344544\n",
              "SGAS    0.340146\n",
              "SLLP    0.306425\n",
              "EGLL    0.300560\n",
              "YSSY    0.284432\n",
              "SBFL    0.237516\n",
              "KLAX    0.227253\n",
              "SAAR    0.199396\n",
              "SLVR    0.175938\n",
              "SCNT    0.115826\n",
              "MMUN    0.092367\n",
              "MDPC    0.079172\n",
              "YMML    0.057180\n",
              "SANT    0.055714\n",
              "SAZN    0.054247\n",
              "SANU    0.051315\n",
              "KMCO    0.049849\n",
              "SULS    0.008797\n",
              "SAWH    0.008797\n",
              "SBCT    0.004398\n",
              "SBFI    0.002932\n",
              "SAZS    0.002932\n",
              "SEQM    0.002932\n",
              "KIAD    0.001466\n",
              "SPSO    0.001466\n",
              "EGYP    0.001466\n",
              "SLCB    0.001466\n",
              "Name: codCiudadDestOper, dtype: float64"
            ]
          },
          "metadata": {},
          "execution_count": 30
        }
      ]
    },
    {
      "cell_type": "markdown",
      "source": [
        "A pesar que estas variables tienen bastantes categorias, aplicando alguna buena tecnica para este tipo de variables (cualitativas) pueden ser útiles para el modelo. como CONVERSION CON RESPECTO AL TARGET."
      ],
      "metadata": {
        "id": "HE2Ez8xsYmED"
      }
    },
    {
      "cell_type": "code",
      "source": [
        "df_analisis.codAeroVueloProg.value_counts(normalize = True)*100"
      ],
      "metadata": {
        "colab": {
          "base_uri": "https://localhost:8080/"
        },
        "id": "sBaC9479bRKh",
        "outputId": "d241e125-b985-4374-c085-822b42fba685"
      },
      "execution_count": 31,
      "outputs": [
        {
          "output_type": "execute_result",
          "data": {
            "text/plain": [
              "LAN    55.143243\n",
              "SKU    20.962965\n",
              "TAM     4.470281\n",
              "ARG     2.857520\n",
              "CMP     2.712371\n",
              "LAW     2.307715\n",
              "AVA     1.689001\n",
              "JAT     1.605431\n",
              "GLO     1.181714\n",
              "AAL     1.109873\n",
              "ACA     0.828373\n",
              "IBE     0.530745\n",
              "AFR     0.524881\n",
              "DAL     0.524881\n",
              "AMX     0.514617\n",
              "UAL     0.491159\n",
              "ONE     0.409055\n",
              "AZA     0.379732\n",
              "KLM     0.368003\n",
              "LAP     0.316688\n",
              "BAW     0.300560\n",
              "QFU     0.285899\n",
              "JMR     0.146615\n",
              "LRC     0.134885\n",
              "AUT     0.108495\n",
              "PUE     0.071841\n",
              "LXP     0.013195\n",
              "LPE     0.005865\n",
              "DSM     0.002932\n",
              "LNE     0.001466\n",
              "Name: codAeroVueloProg, dtype: float64"
            ]
          },
          "metadata": {},
          "execution_count": 31
        }
      ]
    },
    {
      "cell_type": "code",
      "source": [
        "df_analisis.codAeroVueloOper.value_counts(normalize = True)*100"
      ],
      "metadata": {
        "colab": {
          "base_uri": "https://localhost:8080/"
        },
        "id": "IE9KT9fabhhz",
        "outputId": "5d6542b9-a9dd-4598-e46d-3db28758a939"
      },
      "execution_count": 32,
      "outputs": [
        {
          "output_type": "execute_result",
          "data": {
            "text/plain": [
              "LAN    30.771486\n",
              "LXP    21.344163\n",
              "SKU    20.962965\n",
              "TAM     4.465883\n",
              "ARG     2.853121\n",
              "CMP     2.712371\n",
              "JMR     2.414744\n",
              "LPE     1.779902\n",
              "JAT     1.605431\n",
              "AVA     1.297540\n",
              "GLO     1.181714\n",
              "AAL     1.109873\n",
              "ACA     0.828373\n",
              "DSM     0.722810\n",
              "LNE     0.548339\n",
              "IBE     0.530745\n",
              "AFR     0.524881\n",
              "DAL     0.524881\n",
              "LRC     0.523414\n",
              "AMX     0.514617\n",
              "UAL     0.491159\n",
              "ONE     0.409055\n",
              "AZA     0.379732\n",
              "KLM     0.368003\n",
              "LAP     0.321086\n",
              "BAW     0.300560\n",
              "QFA     0.285899\n",
              "AUT     0.112893\n",
              "PUE     0.071841\n",
              "56R     0.024924\n",
              "48O     0.014661\n",
              "TPU     0.002932\n",
              "Name: codAeroVueloOper, dtype: float64"
            ]
          },
          "metadata": {},
          "execution_count": 32
        }
      ]
    },
    {
      "cell_type": "markdown",
      "source": [
        "A pesar que estas variables tienen bastantes categorias, aplicando alguna buena tecnica para este tipo de variables (cualitativas) pueden ser útiles para el modelo, como CONVERSION CON RESPECTO AL TARGET.\n",
        "\n",
        "- El 75% de la variable **codAeroVueloProg** se reparte entre LAN y SKU, teniendo 55% y 20% respectivamente\n",
        "- El 73% de la variable **codAeroVueloOper** se reparte entre LAN, LXP y SKU, teniendo 31%, 21% y 21% respectivamente\n",
        "\n"
      ],
      "metadata": {
        "id": "lifAyYyNbsni"
      }
    },
    {
      "cell_type": "markdown",
      "source": [
        "**Creación de campos de validación para revisar si lo programado es igual a los operado**"
      ],
      "metadata": {
        "id": "wRFC5PH2cR3R"
      }
    },
    {
      "cell_type": "code",
      "source": [
        "# Validación para ver si lo programado es igual a lo operado\n",
        "df_analisis['cambioNroVuelo'] = df_analisis.apply(lambda x: '0' if x['nroVueloProg']==x['nroVueloOper'] else '1', axis=1)\n",
        "df_analisis['cambioCodCiudadDest'] = df_analisis.apply(lambda x: '0' if x['codCiudadDestProg']==x['codCiudadDestOper'] else '1', axis=1)\n",
        "df_analisis['cambioCodAeroVuelo'] = df_analisis.apply(lambda x:'0' if x['codAeroVueloProg']==x['codAeroVueloOper'] else '1', axis=1)"
      ],
      "metadata": {
        "id": "lP6DkKDSAJxq"
      },
      "execution_count": null,
      "outputs": []
    },
    {
      "cell_type": "code",
      "source": [
        "print(df_analisis.groupby(df_analisis['cambioNroVuelo']).size())\n",
        "print(\"------------\")\n",
        "print(df_analisis.groupby(df_analisis['cambioCodCiudadDest']).size())\n",
        "print(\"------------\")\n",
        "print(df_analisis.groupby(df_analisis['cambioCodAeroVuelo']).size())"
      ],
      "metadata": {
        "id": "dNhsvncOFhFe"
      },
      "execution_count": null,
      "outputs": []
    },
    {
      "cell_type": "markdown",
      "source": [
        "- El **nroVueloProg** y **nroVueloOper** se observa que tienen diferencias en sus categorias, el numero de vuelo cambio en la operación en un **6.6%** con respecto a todos los vuelos programados.\n",
        "- El **codCiudadOriProg** y **codCiudadOriOper** se observa que no tienen diferencias en sus categorias.\n",
        "- El **codCiudadDestProg** y **codCiudadDestOper** se observa que tienen diferencias en sus categorias, la ciudad destino cambio en la operación en un **0.04%** con respecto a todos los vuelos programados.\n",
        "- El **codAeroVueloProg** y **codAeroVueloOper** se observa que tienen diferencias en sus categorias, el codigo de la aerolínea cambio en su ejecución en un **27.37%** con respecto a todos los vuelos programados.\n",
        "\n",
        "Las nuevas variables. **cambioNroVuelo**, **cambioCodAeroVuelo** tienen la posibilidad de ser empleadas en el proceso de entrenamiento. Por otro lado las variables **cambioCodCiudadOri** y **cambioCodCiudadDest** no serán usadas debido a la baja varianza.\n",
        "\n",
        "Asi mismo"
      ],
      "metadata": {
        "id": "JhcHk1Cy_VGe"
      }
    },
    {
      "cell_type": "code",
      "source": [
        "df_analisis.drop('cambioCodCiudadDest', axis=1, inplace=True)"
      ],
      "metadata": {
        "id": "9X-4yE7lRCGy"
      },
      "execution_count": null,
      "outputs": []
    },
    {
      "cell_type": "markdown",
      "source": [
        "Se puede observar muchas categorias en las variables **nroVueloProg** y **nroVueloOper** y ninguna de las categorias reune un porcentaje mayor con respecto a otro, esto es un sintoma de mucha variabilidad que no ayuda en la diferencia de una clase con otra. En ese sentido tomaremos la decisión de eliminarlas"
      ],
      "metadata": {
        "id": "lCd89zcnjqZ6"
      }
    },
    {
      "cell_type": "code",
      "source": [
        "df_analisis.drop('nroVueloProg', axis=1, inplace=True)\n",
        "df_analisis.drop('nroVueloOper', axis=1, inplace=True)"
      ],
      "metadata": {
        "id": "6VDv-Rpqj0To"
      },
      "execution_count": null,
      "outputs": []
    },
    {
      "cell_type": "markdown",
      "source": [
        "### Formato de columnas"
      ],
      "metadata": {
        "id": "w4IycFKnA74O"
      }
    },
    {
      "cell_type": "code",
      "source": [
        "df_analisis.dtypes"
      ],
      "metadata": {
        "id": "GrcSmC4DgbPg"
      },
      "execution_count": null,
      "outputs": []
    },
    {
      "cell_type": "code",
      "source": [
        "feat_numerical = ['difMinfecProgYfecOper']"
      ],
      "metadata": {
        "id": "jllUEcMrgvBK"
      },
      "execution_count": null,
      "outputs": []
    },
    {
      "cell_type": "code",
      "source": [
        "feat_categorical = [ \n",
        " 'codCiudadDestProg',\n",
        " 'codAeroVueloProg',\n",
        " 'codCiudadDestOper',\n",
        " 'codAeroVueloOper',\n",
        " 'diaMesOperVuelo',\n",
        " 'nroMesOperVuelo',\n",
        " 'anioOperVuelo',\n",
        " 'diaSem',\n",
        " 'tipVuelo',\n",
        " 'aerolineaOpera',\n",
        " 'nombCiudadOrig',\n",
        " 'nombCiudadDest',\n",
        " 'target',\n",
        " 'temporadaAlta',\n",
        " 'partesDia',\n",
        " 'cambioNroVuelo',\n",
        " 'cambioCodAeroVuelo']"
      ],
      "metadata": {
        "id": "lmVzsq-UgyDa"
      },
      "execution_count": null,
      "outputs": []
    },
    {
      "cell_type": "code",
      "source": [
        "for var in feat_categorical:\n",
        "  df_analisis[var] = df_analisis[var].astype('category')"
      ],
      "metadata": {
        "id": "2mC_Zn3S-H0d"
      },
      "execution_count": null,
      "outputs": []
    },
    {
      "cell_type": "code",
      "source": [
        "v=pd.DataFrame({\"variable\": df_analisis.columns.values})\n",
        "t=pd.DataFrame({\"tipo\": df_analisis.dtypes.values})\n",
        "meta = pd.concat([v, t], axis=1)\n",
        "meta=meta.loc[(meta['tipo']=='category')|(meta['tipo']=='float64'),:]\n",
        "meta"
      ],
      "metadata": {
        "id": "y3hB_92BBGyx"
      },
      "execution_count": null,
      "outputs": []
    },
    {
      "cell_type": "code",
      "source": [
        "df_analisis.head(3)"
      ],
      "metadata": {
        "id": "bCrcMG9Po7Co"
      },
      "execution_count": null,
      "outputs": []
    },
    {
      "cell_type": "code",
      "source": [
        "# Análisis Univariado\n",
        "plot_graph_initial(df_analisis, meta)"
      ],
      "metadata": {
        "id": "wrWFR1x-BIuJ"
      },
      "execution_count": null,
      "outputs": []
    }
  ]
}